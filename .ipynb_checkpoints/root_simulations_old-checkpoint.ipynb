{
 "cells": [
  {
   "cell_type": "markdown",
   "id": "005359b9-90ab-434e-8004-bc97b5a1b2ad",
   "metadata": {},
   "source": [
    "# Root detection\n",
    "\n",
    "Code by Jacqueline Maasch | April 2024"
   ]
  },
  {
   "cell_type": "markdown",
   "id": "7c81eae6-286d-48b2-858d-4d9dd67877c2",
   "metadata": {},
   "source": [
    "## Preamble"
   ]
  },
  {
   "cell_type": "code",
   "execution_count": 1,
   "id": "a1a15256-fe3c-45b7-822d-022215b9f6c2",
   "metadata": {},
   "outputs": [
    {
     "name": "stdout",
     "output_type": "stream",
     "text": [
      "python version     : 3.11.5\n",
      "numpy version      : 1.24.4\n",
      "pandas version     : 1.5.3\n",
      "matplotlib version : 3.8.0\n",
      "seaborn version    : 0.12.2\n"
     ]
    }
   ],
   "source": [
    "# General importations.\n",
    "import pandas as pd\n",
    "import numpy as np\n",
    "import matplotlib\n",
    "import matplotlib.pyplot as plt\n",
    "import seaborn as sns\n",
    "from scipy import stats\n",
    "import platform\n",
    "import time\n",
    "import warnings\n",
    "import networkx as nx\n",
    "from sklearn.preprocessing import StandardScaler\n",
    "\n",
    "# Custom scripts.\n",
    "from root_id import RootID\n",
    "from data_generation import DataGeneration\n",
    "\n",
    "# View versioning.\n",
    "print(\"python version     :\", platform.python_version())\n",
    "print(\"numpy version      :\", np.__version__)\n",
    "print(\"pandas version     :\", pd.__version__)\n",
    "print(\"matplotlib version :\", matplotlib.__version__)\n",
    "print(\"seaborn version    :\", sns.__version__)"
   ]
  },
  {
   "cell_type": "markdown",
   "id": "e669a5f7-e9b5-4aa7-a0b5-9ede761bf1f5",
   "metadata": {},
   "source": [
    "## Define functions"
   ]
  },
  {
   "cell_type": "code",
   "execution_count": 2,
   "id": "113ec621-5846-487d-a70c-e6cc8bff1950",
   "metadata": {},
   "outputs": [],
   "source": [
    "def plot_nx(adjacency_matrix,\n",
    "            labels,\n",
    "            figsize = (5,5),\n",
    "            dpi = 75,\n",
    "            node_size = 800,\n",
    "            arrow_size = 10):\n",
    "\n",
    "    '''\n",
    "    Plot graph given adjacency matrix.\n",
    "    '''\n",
    "    \n",
    "    g = nx.from_numpy_array(adjacency_matrix, create_using = nx.DiGraph)\n",
    "    plt.figure(figsize = figsize, dpi = dpi)  \n",
    "    nx.draw_circular(g, \n",
    "                     node_size = node_size, \n",
    "                     node_color = \"pink\",\n",
    "                     labels = dict(zip(list(range(len(labels))), labels)), \n",
    "                     arrowsize = arrow_size,\n",
    "                     with_labels = True)\n",
    "    plt.show()\n",
    "    plt.close()"
   ]
  },
  {
   "cell_type": "code",
   "execution_count": 3,
   "id": "7b094982-a3db-4e12-aee0-b770f511046a",
   "metadata": {},
   "outputs": [],
   "source": [
    "def get_ci(results: list,\n",
    "           z: float = 1.96,\n",
    "           return_mean: bool = True) -> tuple:\n",
    "\n",
    "    '''\n",
    "    Get confidence interval. Default is 95% confidence interval.\n",
    "    '''\n",
    "\n",
    "    mean = np.mean(results)\n",
    "    se = stats.sem(results)\n",
    "    ci = [mean - (z * se), mean + (z * se)]\n",
    "    if return_mean:\n",
    "        return mean, ci\n",
    "    return ci"
   ]
  },
  {
   "cell_type": "markdown",
   "id": "1fd83c3f-64ee-4c7c-9ae5-744ad84199a2",
   "metadata": {},
   "source": [
    "## Generate data"
   ]
  },
  {
   "cell_type": "code",
   "execution_count": 4,
   "id": "ddd82b20-7074-453c-b0d8-15221e4eb4a5",
   "metadata": {},
   "outputs": [
    {
     "name": "stdout",
     "output_type": "stream",
     "text": [
      "[2, 5, 6, 9, 10, 11, 13, 14]\n"
     ]
    }
   ],
   "source": [
    "# Generate DAG from LDP experiments.\n",
    "# This DAG has an M-structure and butterfly structure.\n",
    "dg = DataGeneration()\n",
    "n = 5000\n",
    "m_structure = True\n",
    "butterfly_structure = True\n",
    "df_ldp, _ = dg.generate_one_of_each_continuous(n = n, \n",
    "                                               m_structure = m_structure,\n",
    "                                               butterfly_structure = butterfly_structure)\n",
    "scaler = StandardScaler()\n",
    "ldp = scaler.fit_transform(df_ldp)\n",
    "roots_ldp = [\"Z1\", \"Z4\", \"Z5\", \"Z8\", \"M1\", \"M2\", \"B1\", \"B2\"]\n",
    "roots_ldp_idx = [list(df_ldp.columns).index(x) for x in roots_ldp]\n",
    "print(roots_ldp_idx)"
   ]
  },
  {
   "cell_type": "code",
   "execution_count": 5,
   "id": "5b9417e1-afad-44dc-952f-fcfc98052ac8",
   "metadata": {},
   "outputs": [],
   "source": [
    "#display(df)"
   ]
  },
  {
   "cell_type": "code",
   "execution_count": 6,
   "id": "c6547cc0-fae3-4ced-bc64-b4ff9a1c9df3",
   "metadata": {},
   "outputs": [
    {
     "data": {
      "text/plain": [
       "array([[<Axes: title={'center': 'X'}>, <Axes: title={'center': 'Y'}>,\n",
       "        <Axes: title={'center': 'Z1'}>, <Axes: title={'center': 'Z2'}>],\n",
       "       [<Axes: title={'center': 'Z3'}>, <Axes: title={'center': 'Z4'}>,\n",
       "        <Axes: title={'center': 'Z5'}>, <Axes: title={'center': 'Z6'}>],\n",
       "       [<Axes: title={'center': 'Z7'}>, <Axes: title={'center': 'Z8'}>,\n",
       "        <Axes: title={'center': 'M1'}>, <Axes: title={'center': 'M2'}>],\n",
       "       [<Axes: title={'center': 'M3'}>, <Axes: title={'center': 'B1'}>,\n",
       "        <Axes: title={'center': 'B2'}>, <Axes: title={'center': 'B3'}>]],\n",
       "      dtype=object)"
      ]
     },
     "execution_count": 6,
     "metadata": {},
     "output_type": "execute_result"
    },
    {
     "data": {
      "image/png": "[encoded data removed]",
      "text/plain": [
       "<Figure size 640x480 with 16 Axes>"
      ]
     },
     "metadata": {},
     "output_type": "display_data"
    }
   ],
   "source": [
    "df_ldp.hist()"
   ]
  },
  {
   "cell_type": "code",
   "execution_count": 7,
   "id": "7ee2ab27-017b-4b22-818a-dacfea00fe09",
   "metadata": {},
   "outputs": [
    {
     "data": {
      "text/html": [
       "<div>\n",
       "<style scoped>\n",
       "    .dataframe tbody tr th:only-of-type {\n",
       "        vertical-align: middle;\n",
       "    }\n",
       "\n",
       "    .dataframe tbody tr th {\n",
       "        vertical-align: top;\n",
       "    }\n",
       "\n",
       "    .dataframe thead th {\n",
       "        text-align: right;\n",
       "    }\n",
       "</style>\n",
       "<table border=\"1\" class=\"dataframe\">\n",
       "  <thead>\n",
       "    <tr style=\"text-align: right;\">\n",
       "      <th></th>\n",
       "      <th>X0</th>\n",
       "      <th>X1</th>\n",
       "      <th>X2</th>\n",
       "      <th>X3</th>\n",
       "      <th>X4</th>\n",
       "    </tr>\n",
       "  </thead>\n",
       "  <tbody>\n",
       "    <tr>\n",
       "      <th>0</th>\n",
       "      <td>0.065922</td>\n",
       "      <td>-1.323171</td>\n",
       "      <td>-0.370275</td>\n",
       "      <td>-0.649261</td>\n",
       "      <td>1.012432</td>\n",
       "    </tr>\n",
       "    <tr>\n",
       "      <th>1</th>\n",
       "      <td>-0.117321</td>\n",
       "      <td>0.208644</td>\n",
       "      <td>0.761347</td>\n",
       "      <td>-0.074872</td>\n",
       "      <td>0.527567</td>\n",
       "    </tr>\n",
       "    <tr>\n",
       "      <th>2</th>\n",
       "      <td>-0.462101</td>\n",
       "      <td>-2.683592</td>\n",
       "      <td>0.215866</td>\n",
       "      <td>0.433486</td>\n",
       "      <td>-0.668583</td>\n",
       "    </tr>\n",
       "    <tr>\n",
       "      <th>3</th>\n",
       "      <td>0.720139</td>\n",
       "      <td>-0.694710</td>\n",
       "      <td>-1.474442</td>\n",
       "      <td>0.767475</td>\n",
       "      <td>0.918224</td>\n",
       "    </tr>\n",
       "    <tr>\n",
       "      <th>4</th>\n",
       "      <td>-0.202436</td>\n",
       "      <td>-0.282523</td>\n",
       "      <td>0.172856</td>\n",
       "      <td>-0.438804</td>\n",
       "      <td>2.895495</td>\n",
       "    </tr>\n",
       "  </tbody>\n",
       "</table>\n",
       "</div>"
      ],
      "text/plain": [
       "         X0        X1        X2        X3        X4\n",
       "0  0.065922 -1.323171 -0.370275 -0.649261  1.012432\n",
       "1 -0.117321  0.208644  0.761347 -0.074872  0.527567\n",
       "2 -0.462101 -2.683592  0.215866  0.433486 -0.668583\n",
       "3  0.720139 -0.694710 -1.474442  0.767475  0.918224\n",
       "4 -0.202436 -0.282523  0.172856 -0.438804  2.895495"
      ]
     },
     "metadata": {},
     "output_type": "display_data"
    },
    {
     "data": {
      "text/html": [
       "<div>\n",
       "<style scoped>\n",
       "    .dataframe tbody tr th:only-of-type {\n",
       "        vertical-align: middle;\n",
       "    }\n",
       "\n",
       "    .dataframe tbody tr th {\n",
       "        vertical-align: top;\n",
       "    }\n",
       "\n",
       "    .dataframe thead th {\n",
       "        text-align: right;\n",
       "    }\n",
       "</style>\n",
       "<table border=\"1\" class=\"dataframe\">\n",
       "  <thead>\n",
       "    <tr style=\"text-align: right;\">\n",
       "      <th></th>\n",
       "      <th>X0</th>\n",
       "      <th>X1</th>\n",
       "      <th>X2</th>\n",
       "      <th>X3</th>\n",
       "      <th>X4</th>\n",
       "    </tr>\n",
       "  </thead>\n",
       "  <tbody>\n",
       "    <tr>\n",
       "      <th>0</th>\n",
       "      <td>-0.318807</td>\n",
       "      <td>0.538567</td>\n",
       "      <td>-0.656837</td>\n",
       "      <td>-0.629572</td>\n",
       "      <td>-0.990885</td>\n",
       "    </tr>\n",
       "    <tr>\n",
       "      <th>1</th>\n",
       "      <td>0.201010</td>\n",
       "      <td>-0.594156</td>\n",
       "      <td>-0.813042</td>\n",
       "      <td>0.670984</td>\n",
       "      <td>0.515249</td>\n",
       "    </tr>\n",
       "    <tr>\n",
       "      <th>2</th>\n",
       "      <td>-0.463695</td>\n",
       "      <td>0.685989</td>\n",
       "      <td>0.874287</td>\n",
       "      <td>-0.324739</td>\n",
       "      <td>-0.463646</td>\n",
       "    </tr>\n",
       "    <tr>\n",
       "      <th>3</th>\n",
       "      <td>1.090186</td>\n",
       "      <td>-1.439023</td>\n",
       "      <td>2.263843</td>\n",
       "      <td>1.963566</td>\n",
       "      <td>1.092174</td>\n",
       "    </tr>\n",
       "    <tr>\n",
       "      <th>4</th>\n",
       "      <td>1.440757</td>\n",
       "      <td>1.080856</td>\n",
       "      <td>-1.264239</td>\n",
       "      <td>-0.827013</td>\n",
       "      <td>0.823436</td>\n",
       "    </tr>\n",
       "  </tbody>\n",
       "</table>\n",
       "</div>"
      ],
      "text/plain": [
       "         X0        X1        X2        X3        X4\n",
       "0 -0.318807  0.538567 -0.656837 -0.629572 -0.990885\n",
       "1  0.201010 -0.594156 -0.813042  0.670984  0.515249\n",
       "2 -0.463695  0.685989  0.874287 -0.324739 -0.463646\n",
       "3  1.090186 -1.439023  2.263843  1.963566  1.092174\n",
       "4  1.440757  1.080856 -1.264239 -0.827013  0.823436"
      ]
     },
     "metadata": {},
     "output_type": "display_data"
    },
    {
     "data": {
      "image/png": "[encoded data removed]",
      "text/plain": [
       "<Figure size 640x480 with 6 Axes>"
      ]
     },
     "metadata": {},
     "output_type": "display_data"
    },
    {
     "data": {
      "image/png": "[encoded data removed]",
      "text/plain": [
       "<Figure size 640x480 with 6 Axes>"
      ]
     },
     "metadata": {},
     "output_type": "display_data"
    },
    {
     "data": {
      "image/png": "[encoded data removed]",
      "text/plain": [
       "<Figure size 225x225 with 1 Axes>"
      ]
     },
     "metadata": {},
     "output_type": "display_data"
    }
   ],
   "source": [
    "# Generate tree structure.\n",
    "n = 10000\n",
    "degree = 2\n",
    "coeff = lambda : np.random.uniform(low = 0.25, high = 0.65, size = 1)\n",
    "noise = lambda x: np.random.normal(loc = 0.0, scale = 1.0, size = x)\n",
    "replicates = 10\n",
    "df_replicates = []\n",
    "roots_tree = [0, 1, 2]\n",
    "\n",
    "for i in range(replicates):\n",
    "    X0 = noise(n)\n",
    "    X1 = noise(n)\n",
    "    X2 = noise(n)\n",
    "    X3 = (coeff()*X0)**degree + (coeff()*X1)**degree + (coeff()*X2)**degree + noise(n)\n",
    "    X4 = (coeff()*X3)**degree + noise(n)\n",
    "\n",
    "    # dodiscover expects dataframes, and they are easy to look at.\n",
    "    df = pd.DataFrame({\"X0\": X0, \n",
    "                       \"X1\": X1, \n",
    "                       \"X2\": X2, \n",
    "                       \"X3\": X3,\n",
    "                       \"X4\": X4})\n",
    "    if i < 2:\n",
    "        display(df.head())\n",
    "        df.hist()\n",
    "    df_replicates.append(df)\n",
    "\n",
    "# Generate adjacency matrix.\n",
    "# Per networkx convention: entry i,j corresponds to an edge from i to j.\n",
    "#       X0 X1 X2 X3 X4\n",
    "adj = [[0, 0, 0, 1, 0], # X0\n",
    "       [0, 0, 0, 1, 0], # X1\n",
    "       [0, 0, 0, 1, 0], # X2\n",
    "       [0, 0, 0, 0, 1], # X3\n",
    "       [0, 0, 0, 0, 0]] # X4\n",
    "adj = np.array(adj)\n",
    "\n",
    "plot_nx(adj, \n",
    "        labels = df.columns,\n",
    "        figsize = (3,3),\n",
    "        dpi = 75)"
   ]
  },
  {
   "cell_type": "markdown",
   "id": "db80e0e8-278f-4bd6-bc2f-6ac07988418e",
   "metadata": {},
   "source": [
    "## Test"
   ]
  },
  {
   "cell_type": "code",
   "execution_count": 20,
   "id": "c4b940bb-881a-40da-85a4-858225ca06a9",
   "metadata": {},
   "outputs": [
    {
     "name": "stdout",
     "output_type": "stream",
     "text": [
      "Accuracy: 0.8\n",
      "Runtime: 286.748 s\n"
     ]
    }
   ],
   "source": [
    "# Sujai's simple simulation.\n",
    "rid = RootID()\n",
    "rid.simple_simulation(n = 10000, iter = 10)"
   ]
  },
  {
   "cell_type": "code",
   "execution_count": 45,
   "id": "8563ce27-98cf-4064-ba40-6aa512f3c8fe",
   "metadata": {},
   "outputs": [
    {
     "data": {
      "image/png": "[encoded data removed]",
      "text/plain": [
       "<Figure size 640x480 with 1 Axes>"
      ]
     },
     "metadata": {},
     "output_type": "display_data"
    }
   ],
   "source": [
    "plt.plot([1000, 5000, 10000], [35.971, 83.069, 286.748])\n",
    "#plt.title(\"Runtime as sampl\")\n",
    "plt.xlabel(\"Sample size\")\n",
    "plt.ylabel(\"Time (seconds)\")\n",
    "#plt.xticks([1000, 5000, 10000])\n",
    "\n",
    "plt.show()"
   ]
  },
  {
   "cell_type": "markdown",
   "id": "5eb00baa-f48c-4035-bef8-ea945dcf2b36",
   "metadata": {},
   "source": [
    "### LDP structure"
   ]
  },
  {
   "cell_type": "code",
   "execution_count": 71,
   "id": "a4179a81-0971-4de0-ac9b-6d54a4242a0b",
   "metadata": {},
   "outputs": [
    {
     "name": "stdout",
     "output_type": "stream",
     "text": [
      "Runtime: 167.613 seconds\n",
      "Predicted roots: [2, 5, 6, 9, 10, 11, 13, 14]\n",
      "Predicted roots == true roots: True\n"
     ]
    }
   ],
   "source": [
    "start = time.time()\n",
    "rid = RootID()\n",
    "roots_ldp_pred = rid.root_detection(ldp)\n",
    "print(\"Runtime:\", round(time.time() - start, 3), \"seconds\")\n",
    "print(\"Predicted roots:\", roots_ldp_pred)\n",
    "print(\"Predicted roots == true roots:\", set(roots_ldp_pred) == set(roots_ldp_idx))"
   ]
  },
  {
   "cell_type": "code",
   "execution_count": 14,
   "id": "93f233ae-12f2-4850-81bd-f19b93b5ef0a",
   "metadata": {},
   "outputs": [
    {
     "data": {
      "text/plain": [
       "[2, 5, 6, 9, 10, 11, 13, 14]"
      ]
     },
     "execution_count": 14,
     "metadata": {},
     "output_type": "execute_result"
    }
   ],
   "source": [
    "roots_ldp_idx"
   ]
  },
  {
   "cell_type": "code",
   "execution_count": 72,
   "id": "dcb4d9b0-afdd-4e7f-b3f0-26878c97ac57",
   "metadata": {},
   "outputs": [
    {
     "data": {
      "text/plain": [
       "[2, 5, 6, 9, 10, 11, 13, 14]"
      ]
     },
     "execution_count": 72,
     "metadata": {},
     "output_type": "execute_result"
    }
   ],
   "source": [
    "roots_ldp_pred"
   ]
  },
  {
   "cell_type": "code",
   "execution_count": 33,
   "id": "8954ecb2-e663-4529-9af7-5b1774385190",
   "metadata": {},
   "outputs": [
    {
     "data": {
      "text/plain": [
       "array([[<Axes: title={'center': '0'}>, <Axes: title={'center': '1'}>,\n",
       "        <Axes: title={'center': '2'}>, <Axes: title={'center': '3'}>],\n",
       "       [<Axes: title={'center': '4'}>, <Axes: title={'center': '5'}>,\n",
       "        <Axes: title={'center': '6'}>, <Axes: title={'center': '7'}>],\n",
       "       [<Axes: title={'center': '8'}>, <Axes: title={'center': '9'}>,\n",
       "        <Axes: title={'center': '10'}>, <Axes: title={'center': '11'}>],\n",
       "       [<Axes: title={'center': '12'}>, <Axes: title={'center': '13'}>,\n",
       "        <Axes: title={'center': '14'}>, <Axes: title={'center': '15'}>]],\n",
       "      dtype=object)"
      ]
     },
     "execution_count": 33,
     "metadata": {},
     "output_type": "execute_result"
    },
    {
     "data": {
      "image/png": "[encoded data removed]",
      "text/plain": [
       "<Figure size 640x480 with 16 Axes>"
      ]
     },
     "metadata": {},
     "output_type": "display_data"
    }
   ],
   "source": [
    "pd.DataFrame(ldp).hist()"
   ]
  },
  {
   "cell_type": "markdown",
   "id": "d3ecd1a7-6318-48c2-a8bf-afc83b55218b",
   "metadata": {},
   "source": [
    "### Tree"
   ]
  },
  {
   "cell_type": "code",
   "execution_count": 67,
   "id": "e7493529-f0ca-458e-aec6-40c5fef4f3a5",
   "metadata": {},
   "outputs": [
    {
     "name": "stdout",
     "output_type": "stream",
     "text": [
      "Mean runtime : 46.597 seconds (45.553-47.641)\n",
      "Accuracy     : 0.4\n"
     ]
    }
   ],
   "source": [
    "times = []\n",
    "root_tree_preds = []\n",
    "correct = 0\n",
    "for df in df_replicates:\n",
    "\n",
    "    # Standardize data.\n",
    "    scaler = StandardScaler()\n",
    "    data = scaler.fit_transform(df)\n",
    "    \n",
    "    # Learn roots.\n",
    "    start = time.time()\n",
    "    pred = rid.root_detection(data)\n",
    "    root_tree_preds.append(pred)\n",
    "    times.append(time.time() - start)\n",
    "    if set(pred) == set(roots_tree):\n",
    "        correct += 1\n",
    "\n",
    "# View performance.\n",
    "mean, ci = get_ci(times)\n",
    "print(\"Mean runtime : {} seconds ({}-{})\".format(round(mean,3), \n",
    "                                                 round(ci[0],3), \n",
    "                                                 round(ci[1],3)))\n",
    "\n",
    "print(\"Accuracy     :\", correct / replicates)"
   ]
  },
  {
   "cell_type": "code",
   "execution_count": 55,
   "id": "e434c751-fd46-40da-b673-e0dc0afadaf8",
   "metadata": {},
   "outputs": [
    {
     "data": {
      "text/plain": [
       "[0, 1, 2]"
      ]
     },
     "execution_count": 55,
     "metadata": {},
     "output_type": "execute_result"
    }
   ],
   "source": [
    "roots_tree"
   ]
  },
  {
   "cell_type": "code",
   "execution_count": 65,
   "id": "774d5638-c368-499e-a829-7c6c8043d683",
   "metadata": {},
   "outputs": [
    {
     "data": {
      "text/plain": [
       "[[0, 1, 2, 4],\n",
       " [1],\n",
       " [0, 1, 2, 4],\n",
       " [1, 2],\n",
       " [0, 1, 2, 4],\n",
       " [0, 1, 4],\n",
       " [0, 1, 2, 3, 4],\n",
       " [0, 1, 2, 4],\n",
       " [0, 1, 2, 4],\n",
       " [0, 1, 2]]"
      ]
     },
     "execution_count": 65,
     "metadata": {},
     "output_type": "execute_result"
    }
   ],
   "source": [
    "root_tree_preds"
   ]
  },
  {
   "cell_type": "code",
   "execution_count": 24,
   "id": "03b198d1-294a-4545-96c2-ac8a14aadd38",
   "metadata": {},
   "outputs": [],
   "source": [
    "# 10k\n",
    "# Mean runtime : 48.986 seconds (48.31-49.661)\n",
    "# Accuracy     : 0.0\n",
    "# [[0, 1, 2, 4], [0, 1, 2, 3, 4], [0, 1, 2, 3, 4]]"
   ]
  },
  {
   "cell_type": "code",
   "execution_count": 25,
   "id": "b3b15e2a-94a8-4701-8902-48bf65201dfc",
   "metadata": {},
   "outputs": [],
   "source": [
    "%%capture\n",
    "'''\n",
    "5k\n",
    "Mean runtime : 14.249 seconds (13.349-15.148)\n",
    "Accuracy     : 0.0\n",
    "\n",
    "# 10k\n",
    "# Mean runtime : 48.986 seconds (48.31-49.661)\n",
    "# Accuracy     : 0.0\n",
    "# [[0, 1, 2, 4], [0, 1, 2, 3, 4], [0, 1, 2, 3, 4]]\n",
    "\n",
    "15k\n",
    "Mean runtime : 137.247 seconds (131.605-142.889)\n",
    "Accuracy     : 0.0\n",
    "'''"
   ]
  },
  {
   "cell_type": "markdown",
   "id": "1ec9f2f4-c976-425e-b264-07cd1682df68",
   "metadata": {},
   "source": [
    "### Sachs"
   ]
  },
  {
   "cell_type": "code",
   "execution_count": 26,
   "id": "b9141672-c0af-4e49-b5be-6493336a8e00",
   "metadata": {},
   "outputs": [],
   "source": [
    "sachs_5k = pd.read_csv(\"sachs_5k.csv\")\n",
    "sachs_10k = pd.read_csv(\"sachs_10k.csv\")"
   ]
  },
  {
   "cell_type": "code",
   "execution_count": 27,
   "id": "71cbc0d9-0054-4605-8678-b90440d48eb3",
   "metadata": {},
   "outputs": [
    {
     "data": {
      "text/html": [
       "<div>\n",
       "<style scoped>\n",
       "    .dataframe tbody tr th:only-of-type {\n",
       "        vertical-align: middle;\n",
       "    }\n",
       "\n",
       "    .dataframe tbody tr th {\n",
       "        vertical-align: top;\n",
       "    }\n",
       "\n",
       "    .dataframe thead th {\n",
       "        text-align: right;\n",
       "    }\n",
       "</style>\n",
       "<table border=\"1\" class=\"dataframe\">\n",
       "  <thead>\n",
       "    <tr style=\"text-align: right;\">\n",
       "      <th></th>\n",
       "      <th>Akt</th>\n",
       "      <th>Erk</th>\n",
       "      <th>Jnk</th>\n",
       "      <th>Mek</th>\n",
       "      <th>P38</th>\n",
       "      <th>PIP2</th>\n",
       "      <th>PIP3</th>\n",
       "      <th>PKA</th>\n",
       "      <th>PKC</th>\n",
       "      <th>Plcg</th>\n",
       "      <th>Raf</th>\n",
       "    </tr>\n",
       "  </thead>\n",
       "  <tbody>\n",
       "    <tr>\n",
       "      <th>0</th>\n",
       "      <td>LOW</td>\n",
       "      <td>AVG</td>\n",
       "      <td>AVG</td>\n",
       "      <td>LOW</td>\n",
       "      <td>LOW</td>\n",
       "      <td>LOW</td>\n",
       "      <td>HIGH</td>\n",
       "      <td>AVG</td>\n",
       "      <td>HIGH</td>\n",
       "      <td>LOW</td>\n",
       "      <td>LOW</td>\n",
       "    </tr>\n",
       "    <tr>\n",
       "      <th>1</th>\n",
       "      <td>AVG</td>\n",
       "      <td>AVG</td>\n",
       "      <td>LOW</td>\n",
       "      <td>AVG</td>\n",
       "      <td>LOW</td>\n",
       "      <td>AVG</td>\n",
       "      <td>LOW</td>\n",
       "      <td>AVG</td>\n",
       "      <td>AVG</td>\n",
       "      <td>HIGH</td>\n",
       "      <td>AVG</td>\n",
       "    </tr>\n",
       "    <tr>\n",
       "      <th>2</th>\n",
       "      <td>LOW</td>\n",
       "      <td>AVG</td>\n",
       "      <td>LOW</td>\n",
       "      <td>AVG</td>\n",
       "      <td>LOW</td>\n",
       "      <td>LOW</td>\n",
       "      <td>LOW</td>\n",
       "      <td>AVG</td>\n",
       "      <td>AVG</td>\n",
       "      <td>LOW</td>\n",
       "      <td>AVG</td>\n",
       "    </tr>\n",
       "    <tr>\n",
       "      <th>3</th>\n",
       "      <td>AVG</td>\n",
       "      <td>HIGH</td>\n",
       "      <td>LOW</td>\n",
       "      <td>LOW</td>\n",
       "      <td>AVG</td>\n",
       "      <td>LOW</td>\n",
       "      <td>LOW</td>\n",
       "      <td>AVG</td>\n",
       "      <td>AVG</td>\n",
       "      <td>LOW</td>\n",
       "      <td>LOW</td>\n",
       "    </tr>\n",
       "    <tr>\n",
       "      <th>4</th>\n",
       "      <td>AVG</td>\n",
       "      <td>HIGH</td>\n",
       "      <td>LOW</td>\n",
       "      <td>LOW</td>\n",
       "      <td>LOW</td>\n",
       "      <td>LOW</td>\n",
       "      <td>AVG</td>\n",
       "      <td>HIGH</td>\n",
       "      <td>LOW</td>\n",
       "      <td>LOW</td>\n",
       "      <td>LOW</td>\n",
       "    </tr>\n",
       "    <tr>\n",
       "      <th>...</th>\n",
       "      <td>...</td>\n",
       "      <td>...</td>\n",
       "      <td>...</td>\n",
       "      <td>...</td>\n",
       "      <td>...</td>\n",
       "      <td>...</td>\n",
       "      <td>...</td>\n",
       "      <td>...</td>\n",
       "      <td>...</td>\n",
       "      <td>...</td>\n",
       "      <td>...</td>\n",
       "    </tr>\n",
       "    <tr>\n",
       "      <th>4995</th>\n",
       "      <td>LOW</td>\n",
       "      <td>AVG</td>\n",
       "      <td>LOW</td>\n",
       "      <td>LOW</td>\n",
       "      <td>LOW</td>\n",
       "      <td>LOW</td>\n",
       "      <td>AVG</td>\n",
       "      <td>AVG</td>\n",
       "      <td>AVG</td>\n",
       "      <td>LOW</td>\n",
       "      <td>LOW</td>\n",
       "    </tr>\n",
       "    <tr>\n",
       "      <th>4996</th>\n",
       "      <td>HIGH</td>\n",
       "      <td>HIGH</td>\n",
       "      <td>HIGH</td>\n",
       "      <td>HIGH</td>\n",
       "      <td>LOW</td>\n",
       "      <td>AVG</td>\n",
       "      <td>HIGH</td>\n",
       "      <td>LOW</td>\n",
       "      <td>LOW</td>\n",
       "      <td>LOW</td>\n",
       "      <td>AVG</td>\n",
       "    </tr>\n",
       "    <tr>\n",
       "      <th>4997</th>\n",
       "      <td>LOW</td>\n",
       "      <td>AVG</td>\n",
       "      <td>LOW</td>\n",
       "      <td>LOW</td>\n",
       "      <td>LOW</td>\n",
       "      <td>LOW</td>\n",
       "      <td>HIGH</td>\n",
       "      <td>AVG</td>\n",
       "      <td>AVG</td>\n",
       "      <td>LOW</td>\n",
       "      <td>LOW</td>\n",
       "    </tr>\n",
       "    <tr>\n",
       "      <th>4998</th>\n",
       "      <td>LOW</td>\n",
       "      <td>AVG</td>\n",
       "      <td>AVG</td>\n",
       "      <td>LOW</td>\n",
       "      <td>LOW</td>\n",
       "      <td>LOW</td>\n",
       "      <td>AVG</td>\n",
       "      <td>AVG</td>\n",
       "      <td>LOW</td>\n",
       "      <td>LOW</td>\n",
       "      <td>HIGH</td>\n",
       "    </tr>\n",
       "    <tr>\n",
       "      <th>4999</th>\n",
       "      <td>HIGH</td>\n",
       "      <td>HIGH</td>\n",
       "      <td>LOW</td>\n",
       "      <td>LOW</td>\n",
       "      <td>HIGH</td>\n",
       "      <td>LOW</td>\n",
       "      <td>LOW</td>\n",
       "      <td>LOW</td>\n",
       "      <td>LOW</td>\n",
       "      <td>LOW</td>\n",
       "      <td>HIGH</td>\n",
       "    </tr>\n",
       "  </tbody>\n",
       "</table>\n",
       "<p>5000 rows × 11 columns</p>\n",
       "</div>"
      ],
      "text/plain": [
       "       Akt   Erk   Jnk   Mek   P38 PIP2  PIP3   PKA   PKC  Plcg   Raf\n",
       "0      LOW   AVG   AVG   LOW   LOW  LOW  HIGH   AVG  HIGH   LOW   LOW\n",
       "1      AVG   AVG   LOW   AVG   LOW  AVG   LOW   AVG   AVG  HIGH   AVG\n",
       "2      LOW   AVG   LOW   AVG   LOW  LOW   LOW   AVG   AVG   LOW   AVG\n",
       "3      AVG  HIGH   LOW   LOW   AVG  LOW   LOW   AVG   AVG   LOW   LOW\n",
       "4      AVG  HIGH   LOW   LOW   LOW  LOW   AVG  HIGH   LOW   LOW   LOW\n",
       "...    ...   ...   ...   ...   ...  ...   ...   ...   ...   ...   ...\n",
       "4995   LOW   AVG   LOW   LOW   LOW  LOW   AVG   AVG   AVG   LOW   LOW\n",
       "4996  HIGH  HIGH  HIGH  HIGH   LOW  AVG  HIGH   LOW   LOW   LOW   AVG\n",
       "4997   LOW   AVG   LOW   LOW   LOW  LOW  HIGH   AVG   AVG   LOW   LOW\n",
       "4998   LOW   AVG   AVG   LOW   LOW  LOW   AVG   AVG   LOW   LOW  HIGH\n",
       "4999  HIGH  HIGH   LOW   LOW  HIGH  LOW   LOW   LOW   LOW   LOW  HIGH\n",
       "\n",
       "[5000 rows x 11 columns]"
      ]
     },
     "execution_count": 27,
     "metadata": {},
     "output_type": "execute_result"
    }
   ],
   "source": [
    "sachs_5k"
   ]
  },
  {
   "cell_type": "code",
   "execution_count": 28,
   "id": "780ade1c-07ef-4133-b55b-a72a848b10ff",
   "metadata": {},
   "outputs": [
    {
     "data": {
      "text/html": [
       "<div>\n",
       "<style scoped>\n",
       "    .dataframe tbody tr th:only-of-type {\n",
       "        vertical-align: middle;\n",
       "    }\n",
       "\n",
       "    .dataframe tbody tr th {\n",
       "        vertical-align: top;\n",
       "    }\n",
       "\n",
       "    .dataframe thead th {\n",
       "        text-align: right;\n",
       "    }\n",
       "</style>\n",
       "<table border=\"1\" class=\"dataframe\">\n",
       "  <thead>\n",
       "    <tr style=\"text-align: right;\">\n",
       "      <th></th>\n",
       "      <th>Akt</th>\n",
       "      <th>Erk</th>\n",
       "      <th>Jnk</th>\n",
       "      <th>Mek</th>\n",
       "      <th>P38</th>\n",
       "      <th>PIP2</th>\n",
       "      <th>PIP3</th>\n",
       "      <th>PKA</th>\n",
       "      <th>PKC</th>\n",
       "      <th>Plcg</th>\n",
       "      <th>Raf</th>\n",
       "    </tr>\n",
       "  </thead>\n",
       "  <tbody>\n",
       "    <tr>\n",
       "      <th>0</th>\n",
       "      <td>LOW</td>\n",
       "      <td>AVG</td>\n",
       "      <td>LOW</td>\n",
       "      <td>LOW</td>\n",
       "      <td>LOW</td>\n",
       "      <td>LOW</td>\n",
       "      <td>HIGH</td>\n",
       "      <td>AVG</td>\n",
       "      <td>AVG</td>\n",
       "      <td>LOW</td>\n",
       "      <td>LOW</td>\n",
       "    </tr>\n",
       "    <tr>\n",
       "      <th>1</th>\n",
       "      <td>AVG</td>\n",
       "      <td>AVG</td>\n",
       "      <td>LOW</td>\n",
       "      <td>AVG</td>\n",
       "      <td>LOW</td>\n",
       "      <td>LOW</td>\n",
       "      <td>AVG</td>\n",
       "      <td>AVG</td>\n",
       "      <td>AVG</td>\n",
       "      <td>LOW</td>\n",
       "      <td>LOW</td>\n",
       "    </tr>\n",
       "    <tr>\n",
       "      <th>2</th>\n",
       "      <td>LOW</td>\n",
       "      <td>AVG</td>\n",
       "      <td>AVG</td>\n",
       "      <td>AVG</td>\n",
       "      <td>LOW</td>\n",
       "      <td>LOW</td>\n",
       "      <td>HIGH</td>\n",
       "      <td>AVG</td>\n",
       "      <td>LOW</td>\n",
       "      <td>LOW</td>\n",
       "      <td>LOW</td>\n",
       "    </tr>\n",
       "    <tr>\n",
       "      <th>3</th>\n",
       "      <td>AVG</td>\n",
       "      <td>AVG</td>\n",
       "      <td>HIGH</td>\n",
       "      <td>HIGH</td>\n",
       "      <td>HIGH</td>\n",
       "      <td>LOW</td>\n",
       "      <td>HIGH</td>\n",
       "      <td>LOW</td>\n",
       "      <td>LOW</td>\n",
       "      <td>LOW</td>\n",
       "      <td>HIGH</td>\n",
       "    </tr>\n",
       "    <tr>\n",
       "      <th>4</th>\n",
       "      <td>LOW</td>\n",
       "      <td>AVG</td>\n",
       "      <td>AVG</td>\n",
       "      <td>LOW</td>\n",
       "      <td>LOW</td>\n",
       "      <td>LOW</td>\n",
       "      <td>LOW</td>\n",
       "      <td>AVG</td>\n",
       "      <td>LOW</td>\n",
       "      <td>LOW</td>\n",
       "      <td>HIGH</td>\n",
       "    </tr>\n",
       "    <tr>\n",
       "      <th>...</th>\n",
       "      <td>...</td>\n",
       "      <td>...</td>\n",
       "      <td>...</td>\n",
       "      <td>...</td>\n",
       "      <td>...</td>\n",
       "      <td>...</td>\n",
       "      <td>...</td>\n",
       "      <td>...</td>\n",
       "      <td>...</td>\n",
       "      <td>...</td>\n",
       "      <td>...</td>\n",
       "    </tr>\n",
       "    <tr>\n",
       "      <th>9995</th>\n",
       "      <td>LOW</td>\n",
       "      <td>AVG</td>\n",
       "      <td>AVG</td>\n",
       "      <td>LOW</td>\n",
       "      <td>LOW</td>\n",
       "      <td>LOW</td>\n",
       "      <td>AVG</td>\n",
       "      <td>AVG</td>\n",
       "      <td>AVG</td>\n",
       "      <td>LOW</td>\n",
       "      <td>LOW</td>\n",
       "    </tr>\n",
       "    <tr>\n",
       "      <th>9996</th>\n",
       "      <td>LOW</td>\n",
       "      <td>LOW</td>\n",
       "      <td>AVG</td>\n",
       "      <td>LOW</td>\n",
       "      <td>LOW</td>\n",
       "      <td>LOW</td>\n",
       "      <td>AVG</td>\n",
       "      <td>AVG</td>\n",
       "      <td>AVG</td>\n",
       "      <td>LOW</td>\n",
       "      <td>LOW</td>\n",
       "    </tr>\n",
       "    <tr>\n",
       "      <th>9997</th>\n",
       "      <td>HIGH</td>\n",
       "      <td>HIGH</td>\n",
       "      <td>AVG</td>\n",
       "      <td>LOW</td>\n",
       "      <td>HIGH</td>\n",
       "      <td>AVG</td>\n",
       "      <td>HIGH</td>\n",
       "      <td>LOW</td>\n",
       "      <td>LOW</td>\n",
       "      <td>AVG</td>\n",
       "      <td>HIGH</td>\n",
       "    </tr>\n",
       "    <tr>\n",
       "      <th>9998</th>\n",
       "      <td>LOW</td>\n",
       "      <td>AVG</td>\n",
       "      <td>AVG</td>\n",
       "      <td>AVG</td>\n",
       "      <td>LOW</td>\n",
       "      <td>LOW</td>\n",
       "      <td>AVG</td>\n",
       "      <td>AVG</td>\n",
       "      <td>AVG</td>\n",
       "      <td>LOW</td>\n",
       "      <td>LOW</td>\n",
       "    </tr>\n",
       "    <tr>\n",
       "      <th>9999</th>\n",
       "      <td>AVG</td>\n",
       "      <td>HIGH</td>\n",
       "      <td>AVG</td>\n",
       "      <td>AVG</td>\n",
       "      <td>AVG</td>\n",
       "      <td>LOW</td>\n",
       "      <td>AVG</td>\n",
       "      <td>AVG</td>\n",
       "      <td>AVG</td>\n",
       "      <td>LOW</td>\n",
       "      <td>LOW</td>\n",
       "    </tr>\n",
       "  </tbody>\n",
       "</table>\n",
       "<p>10000 rows × 11 columns</p>\n",
       "</div>"
      ],
      "text/plain": [
       "       Akt   Erk   Jnk   Mek   P38 PIP2  PIP3  PKA  PKC Plcg   Raf\n",
       "0      LOW   AVG   LOW   LOW   LOW  LOW  HIGH  AVG  AVG  LOW   LOW\n",
       "1      AVG   AVG   LOW   AVG   LOW  LOW   AVG  AVG  AVG  LOW   LOW\n",
       "2      LOW   AVG   AVG   AVG   LOW  LOW  HIGH  AVG  LOW  LOW   LOW\n",
       "3      AVG   AVG  HIGH  HIGH  HIGH  LOW  HIGH  LOW  LOW  LOW  HIGH\n",
       "4      LOW   AVG   AVG   LOW   LOW  LOW   LOW  AVG  LOW  LOW  HIGH\n",
       "...    ...   ...   ...   ...   ...  ...   ...  ...  ...  ...   ...\n",
       "9995   LOW   AVG   AVG   LOW   LOW  LOW   AVG  AVG  AVG  LOW   LOW\n",
       "9996   LOW   LOW   AVG   LOW   LOW  LOW   AVG  AVG  AVG  LOW   LOW\n",
       "9997  HIGH  HIGH   AVG   LOW  HIGH  AVG  HIGH  LOW  LOW  AVG  HIGH\n",
       "9998   LOW   AVG   AVG   AVG   LOW  LOW   AVG  AVG  AVG  LOW   LOW\n",
       "9999   AVG  HIGH   AVG   AVG   AVG  LOW   AVG  AVG  AVG  LOW   LOW\n",
       "\n",
       "[10000 rows x 11 columns]"
      ]
     },
     "execution_count": 28,
     "metadata": {},
     "output_type": "execute_result"
    }
   ],
   "source": [
    "sachs_10k"
   ]
  },
  {
   "cell_type": "code",
   "execution_count": null,
   "id": "7c3e3525-e072-442a-ab4c-f4e524bd4cb1",
   "metadata": {},
   "outputs": [],
   "source": [
    "start = time.time()\n",
    "rid = RootID()\n",
    "roots_ldp_pred = rid.root_detection(ldp)\n",
    "print(\"Runtime:\", round(time.time() - start, 3), \"seconds\")\n",
    "print(\"Predicted roots:\", roots_ldp_pred)\n",
    "print(\"Predicted roots == true roots:\", set(roots_ldp_pred) == set(roots_ldp_idx))"
   ]
  },
  {
   "cell_type": "code",
   "execution_count": null,
   "id": "c65845d8-d678-4b66-badd-b2ea9efede4f",
   "metadata": {},
   "outputs": [],
   "source": []
  },
  {
   "cell_type": "code",
   "execution_count": null,
   "id": "1de084ee-eda2-471b-91cc-0978c1b5a371",
   "metadata": {},
   "outputs": [],
   "source": []
  },
  {
   "cell_type": "markdown",
   "id": "4488cb8c-454c-4d08-9ea4-af9db52a4ff6",
   "metadata": {},
   "source": [
    "## End of document"
   ]
  },
  {
   "cell_type": "code",
   "execution_count": null,
   "id": "19c0c606-1601-4376-8f6b-f1b3f1430b2c",
   "metadata": {},
   "outputs": [],
   "source": []
  }
 ],
 "metadata": {
  "kernelspec": {
   "display_name": "Python causal",
   "language": "python",
   "name": "causal"
  },
  "language_info": {
   "codemirror_mode": {
    "name": "ipython",
    "version": 3
   },
   "file_extension": ".py",
   "mimetype": "text/x-python",
   "name": "python",
   "nbconvert_exporter": "python",
   "pygments_lexer": "ipython3",
   "version": "3.11.5"
  }
 },
 "nbformat": 4,
 "nbformat_minor": 5
}
