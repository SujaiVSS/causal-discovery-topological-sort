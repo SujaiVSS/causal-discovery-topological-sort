{
 "cells": [
  {
   "cell_type": "markdown",
   "id": "005359b9-90ab-434e-8004-bc97b5a1b2ad",
   "metadata": {},
   "source": [
    "# Topological sort baselines\n",
    "\n",
    "Code by Jacqueline Maasch | March 2024"
   ]
  },
  {
   "cell_type": "markdown",
   "id": "7c81eae6-286d-48b2-858d-4d9dd67877c2",
   "metadata": {},
   "source": [
    "## Preamble"
   ]
  },
  {
   "cell_type": "code",
   "execution_count": 1,
   "id": "a1a15256-fe3c-45b7-822d-022215b9f6c2",
   "metadata": {},
   "outputs": [
    {
     "name": "stdout",
     "output_type": "stream",
     "text": [
      "python version     : 3.10.13\n",
      "numpy version      : 1.26.3\n",
      "pandas version     : 2.1.4\n",
      "matplotlib version : 3.8.0\n",
      "seaborn version    : 0.12.2\n"
     ]
    }
   ],
   "source": [
    "# General importations.\n",
    "import pandas as pd\n",
    "import numpy as np\n",
    "import matplotlib\n",
    "import matplotlib.pyplot as plt\n",
    "import seaborn as sns\n",
    "from scipy import stats\n",
    "import platform\n",
    "import time\n",
    "\n",
    "# Machine learning imports.\n",
    "from sklearn.preprocessing import StandardScaler\n",
    "from sklearn.ensemble import RandomForestRegressor\n",
    "\n",
    "# Causal discovery imports.\n",
    "import dodiscover\n",
    "from dodiscover.metrics import toporder_divergence\n",
    "import lingam\n",
    "import CausalDisco\n",
    "from CausalDisco.analytics import (\n",
    "    var_sortability,\n",
    "    r2_sortability,\n",
    "    snr_sortability,\n",
    "    r2coeff,\n",
    "    order_alignment\n",
    ")\n",
    "import networkx as nx\n",
    "\n",
    "# View versioning.\n",
    "print(\"python version     :\", platform.python_version())\n",
    "print(\"numpy version      :\", np.__version__)\n",
    "print(\"pandas version     :\", pd.__version__)\n",
    "print(\"matplotlib version :\", matplotlib.__version__)\n",
    "print(\"seaborn version    :\", sns.__version__)"
   ]
  },
  {
   "cell_type": "markdown",
   "id": "627b83e0-764b-440f-acc1-13c6cfe17ba1",
   "metadata": {},
   "source": [
    "## Define functions"
   ]
  },
  {
   "cell_type": "code",
   "execution_count": 2,
   "id": "5113cde6-9aa9-4544-bdac-482a0d3aa7bb",
   "metadata": {},
   "outputs": [],
   "source": [
    "def plot_nx(adjacency_matrix,\n",
    "            labels,\n",
    "            figsize = (5,5),\n",
    "            dpi = 75,\n",
    "            node_size = 800,\n",
    "            arrow_size = 10):\n",
    "    \n",
    "    g = nx.from_numpy_array(adjacency_matrix, create_using = nx.DiGraph)\n",
    "    plt.figure(figsize = figsize, dpi = dpi)  \n",
    "    nx.draw_circular(g, \n",
    "                     node_size = node_size, \n",
    "                     node_color = \"pink\",\n",
    "                     labels = dict(zip(list(range(len(labels))), labels)), \n",
    "                     arrowsize = arrow_size,\n",
    "                     with_labels = True)\n",
    "    plt.show()\n",
    "    plt.close()"
   ]
  },
  {
   "cell_type": "code",
   "execution_count": 3,
   "id": "e83c9134-0ad2-406f-afe8-061f6433d30f",
   "metadata": {},
   "outputs": [],
   "source": [
    "def get_ci(results: list,\n",
    "           z: float = 1.96,\n",
    "           return_mean: bool = True) -> tuple:\n",
    "\n",
    "    '''\n",
    "    Default is 95% confidence interval.\n",
    "    '''\n",
    "\n",
    "    mean = np.mean(results)\n",
    "    se = stats.sem(results)\n",
    "    ci = [mean - (z * se), mean + (z * se)]\n",
    "    if return_mean:\n",
    "        return mean, ci\n",
    "    return ci"
   ]
  },
  {
   "cell_type": "markdown",
   "id": "1fd83c3f-64ee-4c7c-9ae5-744ad84199a2",
   "metadata": {},
   "source": [
    "## Generate data"
   ]
  },
  {
   "cell_type": "code",
   "execution_count": 4,
   "id": "ddd82b20-7074-453c-b0d8-15221e4eb4a5",
   "metadata": {},
   "outputs": [
    {
     "data": {
      "text/html": [
       "<div>\n",
       "<style scoped>\n",
       "    .dataframe tbody tr th:only-of-type {\n",
       "        vertical-align: middle;\n",
       "    }\n",
       "\n",
       "    .dataframe tbody tr th {\n",
       "        vertical-align: top;\n",
       "    }\n",
       "\n",
       "    .dataframe thead th {\n",
       "        text-align: right;\n",
       "    }\n",
       "</style>\n",
       "<table border=\"1\" class=\"dataframe\">\n",
       "  <thead>\n",
       "    <tr style=\"text-align: right;\">\n",
       "      <th></th>\n",
       "      <th>E</th>\n",
       "      <th>Y</th>\n",
       "      <th>Z2</th>\n",
       "      <th>Z3a</th>\n",
       "      <th>Z3b</th>\n",
       "      <th>Z4</th>\n",
       "      <th>Z6</th>\n",
       "      <th>Z7</th>\n",
       "    </tr>\n",
       "  </thead>\n",
       "  <tbody>\n",
       "    <tr>\n",
       "      <th>0</th>\n",
       "      <td>-0.024657</td>\n",
       "      <td>-1.252697</td>\n",
       "      <td>1.231121</td>\n",
       "      <td>-0.222230</td>\n",
       "      <td>0.184097</td>\n",
       "      <td>-0.927177</td>\n",
       "      <td>0.134246</td>\n",
       "      <td>0.361693</td>\n",
       "    </tr>\n",
       "    <tr>\n",
       "      <th>1</th>\n",
       "      <td>0.099641</td>\n",
       "      <td>-0.182848</td>\n",
       "      <td>-1.339219</td>\n",
       "      <td>0.165374</td>\n",
       "      <td>0.551525</td>\n",
       "      <td>1.807686</td>\n",
       "      <td>-0.298343</td>\n",
       "      <td>-1.295055</td>\n",
       "    </tr>\n",
       "    <tr>\n",
       "      <th>2</th>\n",
       "      <td>-0.723407</td>\n",
       "      <td>0.864214</td>\n",
       "      <td>1.532863</td>\n",
       "      <td>-0.332772</td>\n",
       "      <td>-0.190986</td>\n",
       "      <td>0.975949</td>\n",
       "      <td>1.433813</td>\n",
       "      <td>-0.121495</td>\n",
       "    </tr>\n",
       "    <tr>\n",
       "      <th>3</th>\n",
       "      <td>0.280797</td>\n",
       "      <td>0.549750</td>\n",
       "      <td>-0.785327</td>\n",
       "      <td>0.081248</td>\n",
       "      <td>0.693916</td>\n",
       "      <td>0.271699</td>\n",
       "      <td>0.343736</td>\n",
       "      <td>-0.791091</td>\n",
       "    </tr>\n",
       "    <tr>\n",
       "      <th>4</th>\n",
       "      <td>-0.584256</td>\n",
       "      <td>0.522813</td>\n",
       "      <td>-0.302587</td>\n",
       "      <td>2.132976</td>\n",
       "      <td>0.846435</td>\n",
       "      <td>-0.175733</td>\n",
       "      <td>0.655060</td>\n",
       "      <td>0.654846</td>\n",
       "    </tr>\n",
       "  </tbody>\n",
       "</table>\n",
       "</div>"
      ],
      "text/plain": [
       "          E         Y        Z2       Z3a       Z3b        Z4        Z6  \\\n",
       "0 -0.024657 -1.252697  1.231121 -0.222230  0.184097 -0.927177  0.134246   \n",
       "1  0.099641 -0.182848 -1.339219  0.165374  0.551525  1.807686 -0.298343   \n",
       "2 -0.723407  0.864214  1.532863 -0.332772 -0.190986  0.975949  1.433813   \n",
       "3  0.280797  0.549750 -0.785327  0.081248  0.693916  0.271699  0.343736   \n",
       "4 -0.584256  0.522813 -0.302587  2.132976  0.846435 -0.175733  0.655060   \n",
       "\n",
       "         Z7  \n",
       "0  0.361693  \n",
       "1 -1.295055  \n",
       "2 -0.121495  \n",
       "3 -0.791091  \n",
       "4  0.654846  "
      ]
     },
     "metadata": {},
     "output_type": "display_data"
    },
    {
     "data": {
      "text/html": [
       "<div>\n",
       "<style scoped>\n",
       "    .dataframe tbody tr th:only-of-type {\n",
       "        vertical-align: middle;\n",
       "    }\n",
       "\n",
       "    .dataframe tbody tr th {\n",
       "        vertical-align: top;\n",
       "    }\n",
       "\n",
       "    .dataframe thead th {\n",
       "        text-align: right;\n",
       "    }\n",
       "</style>\n",
       "<table border=\"1\" class=\"dataframe\">\n",
       "  <thead>\n",
       "    <tr style=\"text-align: right;\">\n",
       "      <th></th>\n",
       "      <th>E</th>\n",
       "      <th>Y</th>\n",
       "      <th>Z2</th>\n",
       "      <th>Z3a</th>\n",
       "      <th>Z3b</th>\n",
       "      <th>Z4</th>\n",
       "      <th>Z6</th>\n",
       "      <th>Z7</th>\n",
       "    </tr>\n",
       "  </thead>\n",
       "  <tbody>\n",
       "    <tr>\n",
       "      <th>0</th>\n",
       "      <td>-0.409467</td>\n",
       "      <td>1.011055</td>\n",
       "      <td>-0.121523</td>\n",
       "      <td>0.168835</td>\n",
       "      <td>0.206728</td>\n",
       "      <td>-1.781522</td>\n",
       "      <td>1.260404</td>\n",
       "      <td>1.512866</td>\n",
       "    </tr>\n",
       "    <tr>\n",
       "      <th>1</th>\n",
       "      <td>-0.408629</td>\n",
       "      <td>-1.480156</td>\n",
       "      <td>1.042335</td>\n",
       "      <td>-0.753230</td>\n",
       "      <td>-1.059218</td>\n",
       "      <td>0.202134</td>\n",
       "      <td>0.570587</td>\n",
       "      <td>0.548991</td>\n",
       "    </tr>\n",
       "    <tr>\n",
       "      <th>2</th>\n",
       "      <td>1.013679</td>\n",
       "      <td>-0.504420</td>\n",
       "      <td>0.635079</td>\n",
       "      <td>-0.827058</td>\n",
       "      <td>-0.083836</td>\n",
       "      <td>0.242869</td>\n",
       "      <td>1.291345</td>\n",
       "      <td>0.747369</td>\n",
       "    </tr>\n",
       "    <tr>\n",
       "      <th>3</th>\n",
       "      <td>0.160928</td>\n",
       "      <td>-0.181824</td>\n",
       "      <td>-0.336226</td>\n",
       "      <td>-0.380878</td>\n",
       "      <td>2.051509</td>\n",
       "      <td>0.058965</td>\n",
       "      <td>1.740851</td>\n",
       "      <td>0.052297</td>\n",
       "    </tr>\n",
       "    <tr>\n",
       "      <th>4</th>\n",
       "      <td>0.381914</td>\n",
       "      <td>0.709141</td>\n",
       "      <td>-1.289294</td>\n",
       "      <td>-0.143237</td>\n",
       "      <td>1.587797</td>\n",
       "      <td>-0.191655</td>\n",
       "      <td>1.340611</td>\n",
       "      <td>0.047124</td>\n",
       "    </tr>\n",
       "  </tbody>\n",
       "</table>\n",
       "</div>"
      ],
      "text/plain": [
       "          E         Y        Z2       Z3a       Z3b        Z4        Z6  \\\n",
       "0 -0.409467  1.011055 -0.121523  0.168835  0.206728 -1.781522  1.260404   \n",
       "1 -0.408629 -1.480156  1.042335 -0.753230 -1.059218  0.202134  0.570587   \n",
       "2  1.013679 -0.504420  0.635079 -0.827058 -0.083836  0.242869  1.291345   \n",
       "3  0.160928 -0.181824 -0.336226 -0.380878  2.051509  0.058965  1.740851   \n",
       "4  0.381914  0.709141 -1.289294 -0.143237  1.587797 -0.191655  1.340611   \n",
       "\n",
       "         Z7  \n",
       "0  1.512866  \n",
       "1  0.548991  \n",
       "2  0.747369  \n",
       "3  0.052297  \n",
       "4  0.047124  "
      ]
     },
     "metadata": {},
     "output_type": "display_data"
    },
    {
     "data": {
      "text/html": [
       "<div>\n",
       "<style scoped>\n",
       "    .dataframe tbody tr th:only-of-type {\n",
       "        vertical-align: middle;\n",
       "    }\n",
       "\n",
       "    .dataframe tbody tr th {\n",
       "        vertical-align: top;\n",
       "    }\n",
       "\n",
       "    .dataframe thead th {\n",
       "        text-align: right;\n",
       "    }\n",
       "</style>\n",
       "<table border=\"1\" class=\"dataframe\">\n",
       "  <thead>\n",
       "    <tr style=\"text-align: right;\">\n",
       "      <th></th>\n",
       "      <th>E</th>\n",
       "      <th>Y</th>\n",
       "      <th>Z2</th>\n",
       "      <th>Z3a</th>\n",
       "      <th>Z3b</th>\n",
       "      <th>Z4</th>\n",
       "      <th>Z6</th>\n",
       "      <th>Z7</th>\n",
       "    </tr>\n",
       "  </thead>\n",
       "  <tbody>\n",
       "    <tr>\n",
       "      <th>0</th>\n",
       "      <td>1.113091</td>\n",
       "      <td>2.858051</td>\n",
       "      <td>3.430781</td>\n",
       "      <td>-0.960575</td>\n",
       "      <td>-0.251866</td>\n",
       "      <td>2.004555</td>\n",
       "      <td>2.564073</td>\n",
       "      <td>1.250421</td>\n",
       "    </tr>\n",
       "    <tr>\n",
       "      <th>1</th>\n",
       "      <td>1.110935</td>\n",
       "      <td>-0.021047</td>\n",
       "      <td>0.879830</td>\n",
       "      <td>-1.006423</td>\n",
       "      <td>-0.612736</td>\n",
       "      <td>-1.270434</td>\n",
       "      <td>-1.610645</td>\n",
       "      <td>-0.025069</td>\n",
       "    </tr>\n",
       "    <tr>\n",
       "      <th>2</th>\n",
       "      <td>-0.105730</td>\n",
       "      <td>0.426895</td>\n",
       "      <td>-1.288629</td>\n",
       "      <td>-0.207860</td>\n",
       "      <td>-0.822594</td>\n",
       "      <td>0.221166</td>\n",
       "      <td>-0.340032</td>\n",
       "      <td>1.302755</td>\n",
       "    </tr>\n",
       "    <tr>\n",
       "      <th>3</th>\n",
       "      <td>0.397158</td>\n",
       "      <td>0.130831</td>\n",
       "      <td>-0.123398</td>\n",
       "      <td>-0.138181</td>\n",
       "      <td>-0.092399</td>\n",
       "      <td>0.136018</td>\n",
       "      <td>1.591804</td>\n",
       "      <td>-0.454135</td>\n",
       "    </tr>\n",
       "    <tr>\n",
       "      <th>4</th>\n",
       "      <td>1.269652</td>\n",
       "      <td>1.967498</td>\n",
       "      <td>2.340755</td>\n",
       "      <td>0.561557</td>\n",
       "      <td>2.273974</td>\n",
       "      <td>-1.770830</td>\n",
       "      <td>2.591718</td>\n",
       "      <td>0.064812</td>\n",
       "    </tr>\n",
       "  </tbody>\n",
       "</table>\n",
       "</div>"
      ],
      "text/plain": [
       "          E         Y        Z2       Z3a       Z3b        Z4        Z6  \\\n",
       "0  1.113091  2.858051  3.430781 -0.960575 -0.251866  2.004555  2.564073   \n",
       "1  1.110935 -0.021047  0.879830 -1.006423 -0.612736 -1.270434 -1.610645   \n",
       "2 -0.105730  0.426895 -1.288629 -0.207860 -0.822594  0.221166 -0.340032   \n",
       "3  0.397158  0.130831 -0.123398 -0.138181 -0.092399  0.136018  1.591804   \n",
       "4  1.269652  1.967498  2.340755  0.561557  2.273974 -1.770830  2.591718   \n",
       "\n",
       "         Z7  \n",
       "0  1.250421  \n",
       "1 -0.025069  \n",
       "2  1.302755  \n",
       "3 -0.454135  \n",
       "4  0.064812  "
      ]
     },
     "metadata": {},
     "output_type": "display_data"
    },
    {
     "data": {
      "image/png": "[encoded data removed]",
      "text/plain": [
       "<Figure size 640x480 with 9 Axes>"
      ]
     },
     "metadata": {},
     "output_type": "display_data"
    },
    {
     "data": {
      "image/png": "[encoded data removed]",
      "text/plain": [
       "<Figure size 640x480 with 9 Axes>"
      ]
     },
     "metadata": {},
     "output_type": "display_data"
    },
    {
     "data": {
      "image/png": "[encoded data removed]",
      "text/plain": [
       "<Figure size 640x480 with 9 Axes>"
      ]
     },
     "metadata": {},
     "output_type": "display_data"
    }
   ],
   "source": [
    "# Generate nonlinear Gaussian data with polynomial causal functions.\n",
    "n = 5000\n",
    "degree = 2\n",
    "coeff = lambda x: np.random.uniform(low = 0.25, high = 0.65, size = x)\n",
    "noise = lambda x: np.random.normal(loc = 0.0, scale = 1.0, size = x)\n",
    "replicates = 10\n",
    "df_replicates = []\n",
    "\n",
    "for i in range(replicates):\n",
    "    E = noise(n)\n",
    "    Z3a = (coeff(1)*E)**degree + noise(n)\n",
    "    Z3b = (coeff(1)*Z3a)**degree + noise(n)\n",
    "    Z4 = noise(n)\n",
    "    Y = (coeff(1)*Z3b + coeff(1)*Z4)**degree + noise(n)\n",
    "    Z2 = (coeff(1)*E + coeff(1)*Y)**degree + noise(n)\n",
    "    Z6 = (coeff(1)*Y)**degree + noise(n)\n",
    "    Z7 = (coeff(1)*E)**degree + noise(n)\n",
    "\n",
    "    # dodiscover expects dataframes, and they are easy to look at.\n",
    "    df = pd.DataFrame({\"E\": E, \n",
    "                       \"Y\": Y, \n",
    "                       \"Z2\": Z2, \n",
    "                       \"Z3a\": Z3a,\n",
    "                       \"Z3b\": Z3b, \n",
    "                       \"Z4\": Z4, \n",
    "                       \"Z6\": Z6, \n",
    "                       \"Z7\": Z7})\n",
    "    if i < 3:\n",
    "        display(df.head())\n",
    "        df.hist()\n",
    "    df_replicates.append(df)"
   ]
  },
  {
   "cell_type": "code",
   "execution_count": 5,
   "id": "5b9417e1-afad-44dc-952f-fcfc98052ac8",
   "metadata": {},
   "outputs": [],
   "source": [
    "# Generate adjacency matrix.\n",
    "# Per networkx convention: entry i,j corresponds to an edge from i to j.\n",
    "#       E  Y Z2 3a 3b Z4 Z6  Z7\n",
    "adj = [[0, 0, 1, 1, 0, 0, 0, 1], # E\n",
    "       [0, 0, 1, 0, 0, 0, 1, 0], # Y\n",
    "       [0, 0, 0, 0, 0, 0, 0, 0], # Z2\n",
    "       [0, 0, 0, 0, 1, 0, 0, 0], # Z3a\n",
    "       [0, 1, 0, 0, 0, 0, 0, 0], # Z3b\n",
    "       [0, 1, 0, 0, 0, 0, 0, 0], # Z4\n",
    "       [0, 0, 0, 0, 0, 0, 0, 0], # Z6\n",
    "       [0, 0, 0, 0, 0, 0, 0, 0]] # Z7\n",
    "adj = np.array(adj)"
   ]
  },
  {
   "cell_type": "code",
   "execution_count": 6,
   "id": "80cdfa3b-9fde-47fc-a8b4-9a201055b7af",
   "metadata": {},
   "outputs": [],
   "source": [
    "# Generate directed graph object from adjacency matrix.\n",
    "G = nx.from_numpy_array(adj, create_using = nx.DiGraph)"
   ]
  },
  {
   "cell_type": "code",
   "execution_count": 7,
   "id": "71b4aabf-5386-4b35-8cfc-1479515f4a2a",
   "metadata": {},
   "outputs": [
    {
     "data": {
      "image/png": "[encoded data removed]",
      "text/plain": [
       "<Figure size 375x375 with 1 Axes>"
      ]
     },
     "metadata": {},
     "output_type": "display_data"
    }
   ],
   "source": [
    "vars = list(df.columns)\n",
    "plot_nx(adj, \n",
    "        labels = vars,\n",
    "        figsize = (5,5),\n",
    "        dpi = 75)"
   ]
  },
  {
   "cell_type": "markdown",
   "id": "db80e0e8-278f-4bd6-bc2f-6ac07988418e",
   "metadata": {},
   "source": [
    "## Compare baselines\n",
    "\n",
    "**Performance metric: Topological order divergence**\n",
    "\n",
    ">Topological order divergence is used to compute the number of false negatives, i.e. missing edges, associated to a topological order of the nodes of a graph with respect to the ground truth structure. If the topological ordering is compatible with the graph ground truth, the divergence is equal to 0. In the worst case of completely reversed ordering, toporder_divergence is equals to P, the number of edges (positives) in the ground truth graph. Note that the divergence defines a lower bound for the Structural Hamming Distance. [[source](https://www.pywhy.org/dodiscover/dev/generated/dodiscover.metrics.toporder_divergence.html)]"
   ]
  },
  {
   "cell_type": "markdown",
   "id": "2f55b03c-61d2-4c94-b860-60dabc7047f5",
   "metadata": {},
   "source": [
    "### Varsortability\n",
    "\n",
    "https://causaldisco.github.io/CausalDisco/api-reference.html"
   ]
  },
  {
   "cell_type": "code",
   "execution_count": 8,
   "id": "c4b940bb-881a-40da-85a4-858225ca06a9",
   "metadata": {},
   "outputs": [
    {
     "name": "stdout",
     "output_type": "stream",
     "text": [
      "Var sortabilities : 0.905 (0.857-0.953)\n",
      "Sort divergence   : 1.3 (0.581-2.019)\n"
     ]
    }
   ],
   "source": [
    "var_sortabilities = []\n",
    "varsorts = []\n",
    "varsort_divergences = []\n",
    "\n",
    "# Sort replicates.\n",
    "for df in df_replicates:\n",
    "    \n",
    "    var_sortabilities.append(var_sortability(X = df.to_numpy(), W = adj))\n",
    "    variances = df.var()\n",
    "    var_sort = variances.sort_values(ascending = True)\n",
    "    varsorts.append(var_sort)\n",
    "    varsort_divergences.append(toporder_divergence(G, [vars.index(x) for x in var_sort.index]))\n",
    "\n",
    "# Evaluate.\n",
    "mean, ci = get_ci(var_sortabilities)\n",
    "print(\"Var sortabilities : {} ({}-{})\".format(round(mean,3), round(ci[0],3), round(ci[1],3)))\n",
    "\n",
    "mean, ci = get_ci(varsort_divergences)\n",
    "print(\"Sort divergence   : {} ({}-{})\".format(round(mean,3), round(ci[0],3), round(ci[1],3)))"
   ]
  },
  {
   "cell_type": "markdown",
   "id": "20e8154a-102a-4821-be59-7272de7c4e49",
   "metadata": {},
   "source": [
    "### $R^2$ sortability\n",
    "\n",
    "https://causaldisco.github.io/CausalDisco/api-reference.html"
   ]
  },
  {
   "cell_type": "code",
   "execution_count": 9,
   "id": "c2af6fff-d15c-4810-83bc-6c4d4aec3d97",
   "metadata": {},
   "outputs": [
    {
     "name": "stdout",
     "output_type": "stream",
     "text": [
      "r2 sortabilities : 0.795 (0.753-0.837)\n",
      "Sort divergence  : 3.0 (2.227-3.773)\n"
     ]
    }
   ],
   "source": [
    "r2_sortabilities = []\n",
    "r2sorts = []\n",
    "r2sort_divergences = []\n",
    "\n",
    "# Sort replicates.\n",
    "for df in df_replicates:\n",
    "    \n",
    "    r2_sortabilities.append(r2_sortability(X = df.to_numpy(), W = adj))\n",
    "    r2s = r2coeff(df.to_numpy().T)\n",
    "    r2_sort = sorted(zip(r2s, df.columns), reverse = False)\n",
    "    r2_sort = [x[1] for x in r2_sort]\n",
    "    r2sorts.append(r2_sort)\n",
    "    r2sort_divergences.append(toporder_divergence(G, [vars.index(x) for x in r2_sort]))\n",
    "\n",
    "# Evaluate.\n",
    "mean, ci = get_ci(r2_sortabilities)\n",
    "print(\"r2 sortabilities : {} ({}-{})\".format(round(mean,3), round(ci[0],3), round(ci[1],3)))\n",
    "\n",
    "mean, ci = get_ci(r2sort_divergences)\n",
    "print(\"Sort divergence  : {} ({}-{})\".format(round(mean,3), round(ci[0],3), round(ci[1],3)))"
   ]
  },
  {
   "cell_type": "markdown",
   "id": "a1ac3ba9-0146-44cd-aa37-4a29535274a5",
   "metadata": {},
   "source": [
    "### CAM\n",
    "\n",
    "https://www.pywhy.org/dodiscover/dev/generated/dodiscover.toporder.CAM.html"
   ]
  },
  {
   "cell_type": "code",
   "execution_count": 10,
   "id": "a9ad49aa-affd-4708-977d-c7b298014729",
   "metadata": {},
   "outputs": [
    {
     "name": "stdout",
     "output_type": "stream",
     "text": [
      "CAM mean runtime : 15.448 seconds (15.144-15.753)\n",
      "Sort divergence  : 0.0 (0.0-0.0)\n"
     ]
    }
   ],
   "source": [
    "cam_times = []\n",
    "cam_sorts = []\n",
    "cam_divergences = []\n",
    "\n",
    "# Sort replicates.\n",
    "for df in df_replicates:\n",
    "    \n",
    "    # Learn with CAM. We only need the ordering, but this does the whole procedure.\n",
    "    cam = dodiscover.toporder.CAM()\n",
    "    context = dodiscover.make_context().variables(data = df).build()\n",
    "    start = time.time()\n",
    "    cam.learn_graph(df, context)\n",
    "    cam_times.append(time.time() - start)\n",
    "\n",
    "    # Extract causal order.\n",
    "    cam_order = [df.columns[i] for i in cam.order_]\n",
    "    cam_sorts.append(cam_order)\n",
    "    cam_divergences.append(toporder_divergence(G, [vars.index(x) for x in cam_order]))\n",
    "\n",
    "# Evaluate.\n",
    "mean, ci = get_ci(cam_times)\n",
    "print(\"CAM mean runtime : {} seconds ({}-{})\".format(round(mean,3), round(ci[0],3), round(ci[1],3)))\n",
    "\n",
    "mean, ci = get_ci(cam_divergences)\n",
    "print(\"Sort divergence  : {} ({}-{})\".format(round(mean,3), round(ci[0],3), round(ci[1],3)))"
   ]
  },
  {
   "cell_type": "markdown",
   "id": "9f4dd1be-1004-4859-b369-8fa7d2ef5c59",
   "metadata": {},
   "source": [
    "### SCORE\n",
    "\n",
    "https://www.pywhy.org/dodiscover/dev/generated/dodiscover.toporder.SCORE.html\n",
    "\n",
    "https://www.pywhy.org/dodiscover/dev/generated/dodiscover.toporder.DAS.html"
   ]
  },
  {
   "cell_type": "code",
   "execution_count": 11,
   "id": "28f34dc5-9da7-47b8-bceb-1809352cdaea",
   "metadata": {},
   "outputs": [
    {
     "name": "stdout",
     "output_type": "stream",
     "text": [
      "DAS mean runtime : 269.217 seconds (-52.325-590.759)\n",
      "Sort divergence  : 0.7 (0.19-1.21)\n"
     ]
    }
   ],
   "source": [
    "das_times = []\n",
    "das_sorts = []\n",
    "das_divergences = []\n",
    "\n",
    "# Sort replicates.\n",
    "for df in df_replicates:\n",
    "    \n",
    "    # Learn with DAS (SCORE).\n",
    "    das = dodiscover.toporder.DAS()\n",
    "    context = dodiscover.make_context().variables(data = df).build()\n",
    "    start = time.time()\n",
    "    das.learn_graph(df, context)\n",
    "    das_times.append(time.time() - start)\n",
    "\n",
    "    # Extract causal order.\n",
    "    das_order = [df.columns[i] for i in das.order_]\n",
    "    das_sorts.append(das_order)\n",
    "    das_divergences.append(toporder_divergence(G, [vars.index(x) for x in das_order]))\n",
    "\n",
    "# Evaluate.\n",
    "mean, ci = get_ci(das_times)\n",
    "print(\"DAS mean runtime : {} seconds ({}-{})\".format(round(mean,3), round(ci[0],3), round(ci[1],3)))\n",
    "\n",
    "mean, ci = get_ci(das_divergences)\n",
    "print(\"Sort divergence  : {} ({}-{})\".format(round(mean,3), round(ci[0],3), round(ci[1],3)))"
   ]
  },
  {
   "cell_type": "markdown",
   "id": "0ce30aa6-52ef-449f-ac56-f5fd6effda88",
   "metadata": {},
   "source": [
    "### NoGAM\n",
    "\n",
    "https://www.pywhy.org/dodiscover/dev/generated/dodiscover.toporder.NoGAM.html"
   ]
  },
  {
   "cell_type": "code",
   "execution_count": 12,
   "id": "c5e23b92-b491-4b6a-afda-5536a7959954",
   "metadata": {},
   "outputs": [
    {
     "name": "stdout",
     "output_type": "stream",
     "text": [
      "NoGAM mean runtime : 222.315 seconds (219.606-225.023)\n",
      "Sort divergence  : 0.2 (-0.061-0.461)\n"
     ]
    }
   ],
   "source": [
    "nogam_times = []\n",
    "nogam_sorts = []\n",
    "nogam_divergences = []\n",
    "\n",
    "# Sort replicates.\n",
    "for df in df_replicates:\n",
    "    \n",
    "    # Learn with nogam.\n",
    "    nogam = dodiscover.toporder.NoGAM()\n",
    "    context = dodiscover.make_context().variables(data = df).build()\n",
    "    start = time.time()\n",
    "    nogam.learn_graph(df, context)\n",
    "    nogam_times.append(time.time() - start)\n",
    "\n",
    "    # Extract causal order.\n",
    "    nogam_order = [df.columns[i] for i in nogam.order_]\n",
    "    nogam_sorts.append(nogam_order)\n",
    "    nogam_divergences.append(toporder_divergence(G, [vars.index(x) for x in nogam_order]))\n",
    "\n",
    "# Evaluate.\n",
    "mean, ci = get_ci(nogam_times)\n",
    "print(\"NoGAM mean runtime : {} seconds ({}-{})\".format(round(mean,3), round(ci[0],3), round(ci[1],3)))\n",
    "\n",
    "mean, ci = get_ci(nogam_divergences)\n",
    "print(\"Sort divergence  : {} ({}-{})\".format(round(mean,3), round(ci[0],3), round(ci[1],3)))"
   ]
  },
  {
   "cell_type": "markdown",
   "id": "af4751b2-0285-4398-abd1-22686ae3866e",
   "metadata": {},
   "source": [
    "### RESIT\n",
    "\n",
    "https://lingam.readthedocs.io/en/latest/tutorial/resit.html"
   ]
  },
  {
   "cell_type": "code",
   "execution_count": 15,
   "id": "17184c87-680a-4639-8cff-039c0ae12e62",
   "metadata": {},
   "outputs": [
    {
     "name": "stdout",
     "output_type": "stream",
     "text": [
      "resit mean runtime : 79.516 seconds (78.241-80.792)\n",
      "Sort divergence  : 1.3 (0.79-1.81)\n"
     ]
    }
   ],
   "source": [
    "resit_times = []\n",
    "resit_sorts = []\n",
    "resit_divergences = []\n",
    "\n",
    "# Sort replicates.\n",
    "for df in df_replicates:\n",
    "    \n",
    "    # Learn with RESIT.\n",
    "    # This implementation uses a basic random forest, but we might want to change this.\n",
    "    reg = RandomForestRegressor(max_depth = 4, random_state = 0)\n",
    "    resit = lingam.RESIT(regressor = reg)\n",
    "    start = time.time()\n",
    "    resit.fit(df)\n",
    "    resit_times.append(time.time() - start)\n",
    "\n",
    "    # Extract causal order.\n",
    "    resit_order = resit.causal_order_\n",
    "    resit_sorts.append(resit_order)\n",
    "    resit_divergences.append(toporder_divergence(G, resit_order))\n",
    "\n",
    "# Evaluate.\n",
    "mean, ci = get_ci(resit_times)\n",
    "print(\"resit mean runtime : {} seconds ({}-{})\".format(round(mean,3), round(ci[0],3), round(ci[1],3)))\n",
    "\n",
    "mean, ci = get_ci(resit_divergences)\n",
    "print(\"Sort divergence  : {} ({}-{})\".format(round(mean,3), round(ci[0],3), round(ci[1],3)))"
   ]
  },
  {
   "cell_type": "markdown",
   "id": "152c6611-fa3a-4c1c-9177-033107810c48",
   "metadata": {},
   "source": [
    "### DirectLiNGAM\n",
    "\n",
    "https://lingam.readthedocs.io/en/latest/tutorial/lingam.html"
   ]
  },
  {
   "cell_type": "code",
   "execution_count": 16,
   "id": "c2c67262-0b8f-41c9-97ac-aa245b25f431",
   "metadata": {},
   "outputs": [
    {
     "name": "stdout",
     "output_type": "stream",
     "text": [
      "LiNGAM mean runtime : 0.201 seconds (0.184-0.218)\n",
      "Sort divergence     : 5.4 (4.801-5.999)\n"
     ]
    }
   ],
   "source": [
    "lingam_times = []\n",
    "lingam_sorts = []\n",
    "lingam_divergences = []\n",
    "\n",
    "# Sort replicates.\n",
    "for df in df_replicates:\n",
    "    \n",
    "    # Learn with lingam.\n",
    "    lingam_model = lingam.DirectLiNGAM()\n",
    "    start = time.time()\n",
    "    lingam_model.fit(df)\n",
    "    lingam_times.append(time.time() - start)\n",
    "\n",
    "    # Extract causal order.\n",
    "    lingam_order = lingam_model.causal_order_\n",
    "    lingam_sorts.append(lingam_order)\n",
    "    lingam_divergences.append(toporder_divergence(G, lingam_order))\n",
    "\n",
    "# Evaluate.\n",
    "mean, ci = get_ci(lingam_times)\n",
    "print(\"LiNGAM mean runtime : {} seconds ({}-{})\".format(round(mean,3), round(ci[0],3), round(ci[1],3)))\n",
    "\n",
    "mean, ci = get_ci(lingam_divergences)\n",
    "print(\"Sort divergence     : {} ({}-{})\".format(round(mean,3), round(ci[0],3), round(ci[1],3)))"
   ]
  },
  {
   "cell_type": "markdown",
   "id": "e8f3f04e-6efa-43c4-af16-7b00add479f2",
   "metadata": {},
   "source": [
    "### All divergences"
   ]
  },
  {
   "cell_type": "code",
   "execution_count": 18,
   "id": "4838b5bf-3250-44bf-bca5-eeab1a40c6f5",
   "metadata": {},
   "outputs": [
    {
     "name": "stdout",
     "output_type": "stream",
     "text": [
      "CAM divergence    : 0.0 (0.0-0.0)\n",
      "SCORE divergence  : 0.7 (0.19-1.21)\n",
      "NoGAM divergence  : 0.2 (-0.061-0.461)\n",
      "RESIT divergence  : 1.3 (0.79-1.81)\n",
      "LiNGAM divergence : 5.4 (4.801-5.999)\n"
     ]
    }
   ],
   "source": [
    "mean, ci = get_ci(cam_divergences)\n",
    "print(\"CAM divergence    : {} ({}-{})\".format(round(mean,3), round(ci[0],3), round(ci[1],3)))\n",
    "\n",
    "mean, ci = get_ci(das_divergences)\n",
    "print(\"SCORE divergence  : {} ({}-{})\".format(round(mean,3), round(ci[0],3), round(ci[1],3)))\n",
    "\n",
    "mean, ci = get_ci(nogam_divergences)\n",
    "print(\"NoGAM divergence  : {} ({}-{})\".format(round(mean,3), round(ci[0],3), round(ci[1],3)))\n",
    "\n",
    "mean, ci = get_ci(resit_divergences)\n",
    "print(\"RESIT divergence  : {} ({}-{})\".format(round(mean,3), round(ci[0],3), round(ci[1],3)))\n",
    "\n",
    "mean, ci = get_ci(lingam_divergences)\n",
    "print(\"LiNGAM divergence : {} ({}-{})\".format(round(mean,3), round(ci[0],3), round(ci[1],3)))"
   ]
  },
  {
   "cell_type": "code",
   "execution_count": null,
   "id": "69125910-6845-4c49-a422-747f8a541f89",
   "metadata": {},
   "outputs": [],
   "source": []
  },
  {
   "cell_type": "code",
   "execution_count": null,
   "id": "0d76f482-7fec-4835-b490-3d66f1e23fa4",
   "metadata": {},
   "outputs": [],
   "source": []
  },
  {
   "cell_type": "markdown",
   "id": "4488cb8c-454c-4d08-9ea4-af9db52a4ff6",
   "metadata": {},
   "source": [
    "## End of document"
   ]
  },
  {
   "cell_type": "code",
   "execution_count": null,
   "id": "19c0c606-1601-4376-8f6b-f1b3f1430b2c",
   "metadata": {},
   "outputs": [],
   "source": []
  }
 ],
 "metadata": {
  "kernelspec": {
   "display_name": "ICP",
   "language": "python",
   "name": "icp"
  },
  "language_info": {
   "codemirror_mode": {
    "name": "ipython",
    "version": 3
   },
   "file_extension": ".py",
   "mimetype": "text/x-python",
   "name": "python",
   "nbconvert_exporter": "python",
   "pygments_lexer": "ipython3",
   "version": "3.10.13"
  }
 },
 "nbformat": 4,
 "nbformat_minor": 5
}
