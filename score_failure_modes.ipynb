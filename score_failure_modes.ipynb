{
 "cells": [
  {
   "cell_type": "markdown",
   "id": "005359b9-90ab-434e-8004-bc97b5a1b2ad",
   "metadata": {},
   "source": [
    "# Failure modes of existing score matching methods\n",
    "\n",
    "Code by Jacqueline Maasch | March 2024"
   ]
  },
  {
   "cell_type": "markdown",
   "id": "7c81eae6-286d-48b2-858d-4d9dd67877c2",
   "metadata": {},
   "source": [
    "## Preamble"
   ]
  },
  {
   "cell_type": "code",
   "execution_count": 1,
   "id": "a1a15256-fe3c-45b7-822d-022215b9f6c2",
   "metadata": {},
   "outputs": [
    {
     "name": "stdout",
     "output_type": "stream",
     "text": [
      "python version     : 3.10.13\n",
      "numpy version      : 1.26.3\n",
      "pandas version     : 2.1.4\n",
      "matplotlib version : 3.8.0\n",
      "seaborn version    : 0.12.2\n"
     ]
    }
   ],
   "source": [
    "# General importations.\n",
    "import pandas as pd\n",
    "import numpy as np\n",
    "import matplotlib\n",
    "import matplotlib.pyplot as plt\n",
    "import seaborn as sns\n",
    "from scipy import stats\n",
    "import platform\n",
    "import time\n",
    "from itertools import chain, combinations\n",
    "\n",
    "# Machine learning imports.\n",
    "from sklearn.preprocessing import StandardScaler\n",
    "\n",
    "# Causal discovery imports.\n",
    "import dodiscover\n",
    "from dodiscover.metrics import toporder_divergence\n",
    "import CausalDisco\n",
    "from CausalDisco.analytics import (\n",
    "    var_sortability,\n",
    "    r2_sortability,\n",
    "    snr_sortability,\n",
    "    r2coeff,\n",
    "    order_alignment\n",
    ")\n",
    "import networkx as nx\n",
    "\n",
    "# View versioning.\n",
    "print(\"python version     :\", platform.python_version())\n",
    "print(\"numpy version      :\", np.__version__)\n",
    "print(\"pandas version     :\", pd.__version__)\n",
    "print(\"matplotlib version :\", matplotlib.__version__)\n",
    "print(\"seaborn version    :\", sns.__version__)"
   ]
  },
  {
   "cell_type": "markdown",
   "id": "b7193a52-ef12-43fc-afc7-daf8b30992b2",
   "metadata": {},
   "source": [
    "## Define functions"
   ]
  },
  {
   "cell_type": "code",
   "execution_count": 2,
   "id": "51c36ada-98f5-4832-b6e3-2ef3364caf70",
   "metadata": {},
   "outputs": [],
   "source": [
    "def plot_nx(adjacency_matrix,\n",
    "            labels,\n",
    "            figsize = (5,5),\n",
    "            dpi = 75,\n",
    "            node_size = 800,\n",
    "            arrow_size = 10):\n",
    "\n",
    "    '''\n",
    "    Plot graph given adjacency matrix.\n",
    "    '''\n",
    "    \n",
    "    g = nx.from_numpy_array(adjacency_matrix, create_using = nx.DiGraph)\n",
    "    plt.figure(figsize = figsize, dpi = dpi)  \n",
    "    nx.draw_circular(g, \n",
    "                     node_size = node_size, \n",
    "                     node_color = \"pink\",\n",
    "                     labels = dict(zip(list(range(len(labels))), labels)), \n",
    "                     arrowsize = arrow_size,\n",
    "                     with_labels = True)\n",
    "    plt.show()\n",
    "    plt.close()"
   ]
  },
  {
   "cell_type": "code",
   "execution_count": 3,
   "id": "3734286b-a3f0-4280-b0d8-0de0f1d6afeb",
   "metadata": {},
   "outputs": [],
   "source": [
    "def get_power_set(iterable):\n",
    "\n",
    "    '''\n",
    "    Get power set of an iterable (e.g., list, array). Returns chain oject.\n",
    "    '''\n",
    "\n",
    "    iterable = list(iterable)\n",
    "    power_set = chain.from_iterable(combinations(iterable, i) \\\n",
    "                                    for i in range(len(iterable)+1))\n",
    "    return power_set"
   ]
  },
  {
   "cell_type": "code",
   "execution_count": 4,
   "id": "c9c34bb9-fc63-4829-8ad8-aaa7a1c46fed",
   "metadata": {},
   "outputs": [],
   "source": [
    "def get_ci(results: list,\n",
    "           z: float = 1.96,\n",
    "           return_mean: bool = True) -> tuple:\n",
    "\n",
    "    '''\n",
    "    Get confidence interval. Default is 95% confidence interval.\n",
    "    '''\n",
    "\n",
    "    mean = np.mean(results)\n",
    "    se = stats.sem(results)\n",
    "    ci = [mean - (z * se), mean + (z * se)]\n",
    "    if return_mean:\n",
    "        return mean, ci\n",
    "    return ci"
   ]
  },
  {
   "cell_type": "markdown",
   "id": "1fd83c3f-64ee-4c7c-9ae5-744ad84199a2",
   "metadata": {},
   "source": [
    "## Generate data"
   ]
  },
  {
   "cell_type": "code",
   "execution_count": 5,
   "id": "ddd82b20-7074-453c-b0d8-15221e4eb4a5",
   "metadata": {},
   "outputs": [
    {
     "data": {
      "text/html": [
       "<div>\n",
       "<style scoped>\n",
       "    .dataframe tbody tr th:only-of-type {\n",
       "        vertical-align: middle;\n",
       "    }\n",
       "\n",
       "    .dataframe tbody tr th {\n",
       "        vertical-align: top;\n",
       "    }\n",
       "\n",
       "    .dataframe thead th {\n",
       "        text-align: right;\n",
       "    }\n",
       "</style>\n",
       "<table border=\"1\" class=\"dataframe\">\n",
       "  <thead>\n",
       "    <tr style=\"text-align: right;\">\n",
       "      <th></th>\n",
       "      <th>X0</th>\n",
       "      <th>X1</th>\n",
       "      <th>X2</th>\n",
       "      <th>X3</th>\n",
       "      <th>X4</th>\n",
       "    </tr>\n",
       "  </thead>\n",
       "  <tbody>\n",
       "    <tr>\n",
       "      <th>0</th>\n",
       "      <td>1.716335</td>\n",
       "      <td>-1.492971</td>\n",
       "      <td>0.991211</td>\n",
       "      <td>1.016661</td>\n",
       "      <td>1.288704</td>\n",
       "    </tr>\n",
       "    <tr>\n",
       "      <th>1</th>\n",
       "      <td>-1.033376</td>\n",
       "      <td>-0.373998</td>\n",
       "      <td>-0.626442</td>\n",
       "      <td>-1.843206</td>\n",
       "      <td>-2.568064</td>\n",
       "    </tr>\n",
       "    <tr>\n",
       "      <th>2</th>\n",
       "      <td>0.138631</td>\n",
       "      <td>0.308282</td>\n",
       "      <td>-0.611700</td>\n",
       "      <td>2.026692</td>\n",
       "      <td>0.188051</td>\n",
       "    </tr>\n",
       "    <tr>\n",
       "      <th>3</th>\n",
       "      <td>-0.027000</td>\n",
       "      <td>0.176979</td>\n",
       "      <td>0.368306</td>\n",
       "      <td>-0.017822</td>\n",
       "      <td>-1.658142</td>\n",
       "    </tr>\n",
       "    <tr>\n",
       "      <th>4</th>\n",
       "      <td>-1.546391</td>\n",
       "      <td>0.235945</td>\n",
       "      <td>-0.797526</td>\n",
       "      <td>0.860268</td>\n",
       "      <td>0.956523</td>\n",
       "    </tr>\n",
       "  </tbody>\n",
       "</table>\n",
       "</div>"
      ],
      "text/plain": [
       "         X0        X1        X2        X3        X4\n",
       "0  1.716335 -1.492971  0.991211  1.016661  1.288704\n",
       "1 -1.033376 -0.373998 -0.626442 -1.843206 -2.568064\n",
       "2  0.138631  0.308282 -0.611700  2.026692  0.188051\n",
       "3 -0.027000  0.176979  0.368306 -0.017822 -1.658142\n",
       "4 -1.546391  0.235945 -0.797526  0.860268  0.956523"
      ]
     },
     "metadata": {},
     "output_type": "display_data"
    },
    {
     "data": {
      "text/html": [
       "<div>\n",
       "<style scoped>\n",
       "    .dataframe tbody tr th:only-of-type {\n",
       "        vertical-align: middle;\n",
       "    }\n",
       "\n",
       "    .dataframe tbody tr th {\n",
       "        vertical-align: top;\n",
       "    }\n",
       "\n",
       "    .dataframe thead th {\n",
       "        text-align: right;\n",
       "    }\n",
       "</style>\n",
       "<table border=\"1\" class=\"dataframe\">\n",
       "  <thead>\n",
       "    <tr style=\"text-align: right;\">\n",
       "      <th></th>\n",
       "      <th>X0</th>\n",
       "      <th>X1</th>\n",
       "      <th>X2</th>\n",
       "      <th>X3</th>\n",
       "      <th>X4</th>\n",
       "    </tr>\n",
       "  </thead>\n",
       "  <tbody>\n",
       "    <tr>\n",
       "      <th>0</th>\n",
       "      <td>1.846012</td>\n",
       "      <td>-0.280276</td>\n",
       "      <td>1.474876</td>\n",
       "      <td>3.567318</td>\n",
       "      <td>3.041645</td>\n",
       "    </tr>\n",
       "    <tr>\n",
       "      <th>1</th>\n",
       "      <td>-0.047399</td>\n",
       "      <td>-0.732956</td>\n",
       "      <td>-0.999181</td>\n",
       "      <td>-0.261316</td>\n",
       "      <td>0.337508</td>\n",
       "    </tr>\n",
       "    <tr>\n",
       "      <th>2</th>\n",
       "      <td>0.952395</td>\n",
       "      <td>0.484467</td>\n",
       "      <td>-0.465005</td>\n",
       "      <td>-0.308371</td>\n",
       "      <td>-1.124266</td>\n",
       "    </tr>\n",
       "    <tr>\n",
       "      <th>3</th>\n",
       "      <td>-1.695810</td>\n",
       "      <td>-0.520213</td>\n",
       "      <td>0.410469</td>\n",
       "      <td>1.621497</td>\n",
       "      <td>-0.025586</td>\n",
       "    </tr>\n",
       "    <tr>\n",
       "      <th>4</th>\n",
       "      <td>-0.184747</td>\n",
       "      <td>-0.049937</td>\n",
       "      <td>0.370415</td>\n",
       "      <td>-0.125625</td>\n",
       "      <td>0.239004</td>\n",
       "    </tr>\n",
       "  </tbody>\n",
       "</table>\n",
       "</div>"
      ],
      "text/plain": [
       "         X0        X1        X2        X3        X4\n",
       "0  1.846012 -0.280276  1.474876  3.567318  3.041645\n",
       "1 -0.047399 -0.732956 -0.999181 -0.261316  0.337508\n",
       "2  0.952395  0.484467 -0.465005 -0.308371 -1.124266\n",
       "3 -1.695810 -0.520213  0.410469  1.621497 -0.025586\n",
       "4 -0.184747 -0.049937  0.370415 -0.125625  0.239004"
      ]
     },
     "metadata": {},
     "output_type": "display_data"
    },
    {
     "data": {
      "text/html": [
       "<div>\n",
       "<style scoped>\n",
       "    .dataframe tbody tr th:only-of-type {\n",
       "        vertical-align: middle;\n",
       "    }\n",
       "\n",
       "    .dataframe tbody tr th {\n",
       "        vertical-align: top;\n",
       "    }\n",
       "\n",
       "    .dataframe thead th {\n",
       "        text-align: right;\n",
       "    }\n",
       "</style>\n",
       "<table border=\"1\" class=\"dataframe\">\n",
       "  <thead>\n",
       "    <tr style=\"text-align: right;\">\n",
       "      <th></th>\n",
       "      <th>X0</th>\n",
       "      <th>X1</th>\n",
       "      <th>X2</th>\n",
       "      <th>X3</th>\n",
       "      <th>X4</th>\n",
       "    </tr>\n",
       "  </thead>\n",
       "  <tbody>\n",
       "    <tr>\n",
       "      <th>0</th>\n",
       "      <td>-1.577006</td>\n",
       "      <td>0.540045</td>\n",
       "      <td>-1.016191</td>\n",
       "      <td>-3.318438</td>\n",
       "      <td>-1.419291</td>\n",
       "    </tr>\n",
       "    <tr>\n",
       "      <th>1</th>\n",
       "      <td>0.948249</td>\n",
       "      <td>-1.491328</td>\n",
       "      <td>-0.198624</td>\n",
       "      <td>1.259807</td>\n",
       "      <td>0.450384</td>\n",
       "    </tr>\n",
       "    <tr>\n",
       "      <th>2</th>\n",
       "      <td>-0.999111</td>\n",
       "      <td>-0.132013</td>\n",
       "      <td>0.812541</td>\n",
       "      <td>-3.019166</td>\n",
       "      <td>-1.469807</td>\n",
       "    </tr>\n",
       "    <tr>\n",
       "      <th>3</th>\n",
       "      <td>1.094141</td>\n",
       "      <td>-0.793902</td>\n",
       "      <td>0.181966</td>\n",
       "      <td>0.471664</td>\n",
       "      <td>-0.196733</td>\n",
       "    </tr>\n",
       "    <tr>\n",
       "      <th>4</th>\n",
       "      <td>-2.399714</td>\n",
       "      <td>-0.046789</td>\n",
       "      <td>-0.191013</td>\n",
       "      <td>-1.531714</td>\n",
       "      <td>-0.321769</td>\n",
       "    </tr>\n",
       "  </tbody>\n",
       "</table>\n",
       "</div>"
      ],
      "text/plain": [
       "         X0        X1        X2        X3        X4\n",
       "0 -1.577006  0.540045 -1.016191 -3.318438 -1.419291\n",
       "1  0.948249 -1.491328 -0.198624  1.259807  0.450384\n",
       "2 -0.999111 -0.132013  0.812541 -3.019166 -1.469807\n",
       "3  1.094141 -0.793902  0.181966  0.471664 -0.196733\n",
       "4 -2.399714 -0.046789 -0.191013 -1.531714 -0.321769"
      ]
     },
     "metadata": {},
     "output_type": "display_data"
    },
    {
     "data": {
      "image/png": "[encoded data removed]",
      "text/plain": [
       "<Figure size 640x480 with 6 Axes>"
      ]
     },
     "metadata": {},
     "output_type": "display_data"
    },
    {
     "data": {
      "image/png": "[encoded data removed]",
      "text/plain": [
       "<Figure size 640x480 with 6 Axes>"
      ]
     },
     "metadata": {},
     "output_type": "display_data"
    },
    {
     "data": {
      "image/png": "[encoded data removed]",
      "text/plain": [
       "<Figure size 640x480 with 6 Axes>"
      ]
     },
     "metadata": {},
     "output_type": "display_data"
    }
   ],
   "source": [
    "# Generate data.\n",
    "n = 5000\n",
    "degree = 1\n",
    "coeff = lambda : np.random.uniform(low = 0.25, high = 0.65, size = 1)\n",
    "noise = lambda x: np.random.normal(loc = 0.0, scale = 1.0, size = x)\n",
    "replicates = 5\n",
    "df_replicates = []\n",
    "\n",
    "for i in range(replicates):\n",
    "    X0 = noise(n)\n",
    "    X1 = noise(n)\n",
    "    X2 = noise(n)\n",
    "    X3 = (coeff()*X0)**degree + (coeff()*X1)**degree + (coeff()*X2)**degree + noise(n)\n",
    "    X4 = (coeff()*X3)**degree + noise(n)\n",
    "\n",
    "    # dodiscover expects dataframes, and they are easy to look at.\n",
    "    df = pd.DataFrame({\"X0\": X0, \n",
    "                       \"X1\": X1, \n",
    "                       \"X2\": X2, \n",
    "                       \"X3\": X3,\n",
    "                       \"X4\": X4})\n",
    "    if i < 3:\n",
    "        display(df.head())\n",
    "        df.hist()\n",
    "    df_replicates.append(df)"
   ]
  },
  {
   "cell_type": "code",
   "execution_count": 6,
   "id": "5b9417e1-afad-44dc-952f-fcfc98052ac8",
   "metadata": {},
   "outputs": [],
   "source": [
    "# Generate adjacency matrix.\n",
    "# Per networkx convention: entry i,j corresponds to an edge from i to j.\n",
    "#       X0 X1 X2 X3 X4\n",
    "adj = [[0, 0, 0, 1, 0], # X0\n",
    "       [0, 0, 0, 1, 0], # X1\n",
    "       [0, 0, 0, 1, 0], # X2\n",
    "       [0, 0, 0, 0, 1], # X3\n",
    "       [0, 0, 0, 0, 0]] # X4\n",
    "adj = np.array(adj)"
   ]
  },
  {
   "cell_type": "code",
   "execution_count": 7,
   "id": "79691f2c-4029-4e93-96de-7533b6ecb5ba",
   "metadata": {},
   "outputs": [
    {
     "data": {
      "image/png": "[encoded data removed]",
      "text/plain": [
       "<Figure size 225x225 with 1 Axes>"
      ]
     },
     "metadata": {},
     "output_type": "display_data"
    }
   ],
   "source": [
    "plot_nx(adj, \n",
    "        labels = df.columns,\n",
    "        figsize = (3,3),\n",
    "        dpi = 75)"
   ]
  },
  {
   "cell_type": "markdown",
   "id": "db80e0e8-278f-4bd6-bc2f-6ac07988418e",
   "metadata": {},
   "source": [
    "## Topological sorts\n",
    "\n",
    "[**Evaluation:**](https://www.pywhy.org/dodiscover/dev/generated/dodiscover.metrics.toporder_divergence.html) \n",
    ">\"Topological order divergence is used to compute the number of false negatives, i.e. missing edges, associated to a topological order of the nodes of a graph with respect to the ground truth structure. If the topological ordering is compatible with the graph ground truth, the divergence is equal to 0. In the worst case of completely reversed ordering, toporder_divergence is equals to P, the number of edges (positives) in the ground truth graph. Note that the divergence defines a lower bound for the Structural Hamming Distance.\""
   ]
  },
  {
   "cell_type": "code",
   "execution_count": 8,
   "id": "8a2ae964-22a4-4296-87ee-65f3b8bc1950",
   "metadata": {},
   "outputs": [
    {
     "name": "stdout",
     "output_type": "stream",
     "text": [
      "[(), ('X0',), ('X1',), ('X2',), ('X0', 'X1'), ('X0', 'X2'), ('X1', 'X2'), ('X0', 'X1', 'X2')]\n"
     ]
    }
   ],
   "source": [
    "latents_power_set = list(get_power_set([\"X0\", \"X1\", \"X2\"]))\n",
    "print(latents_power_set)"
   ]
  },
  {
   "cell_type": "code",
   "execution_count": 10,
   "id": "f8ec06c9-bbfc-4c36-b9a4-17e13e94d1be",
   "metadata": {},
   "outputs": [
    {
     "name": "stdout",
     "output_type": "stream",
     "text": [
      "\n",
      "--*-- Variables () are latent. --*--\n",
      "\n",
      "Mean runtime          : 31.998 seconds (31.533-32.463)\n",
      "Mean order divergence : 1.2 (0.24-2.16)\n",
      "\n",
      "Causal orderings : [['X0', 'X2', 'X1', 'X3', 'X4'], ['X4', 'X2', 'X0', 'X3', 'X1'], ['X4', 'X0', 'X1', 'X3', 'X2'], ['X1', 'X3', 'X0', 'X2', 'X4'], ['X2', 'X1', 'X0', 'X3', 'X4']]\n",
      "\n",
      "--*-- Variables ('X0',) are latent. --*--\n",
      "\n",
      "Mean runtime          : 24.547 seconds (23.934-25.16)\n",
      "Mean order divergence : 1.0 (0.123-1.877)\n",
      "\n",
      "Causal orderings : [['X2', 'X1', 'X3', 'X4'], ['X4', 'X2', 'X3', 'X1'], ['X4', 'X2', 'X3', 'X1'], ['X1', 'X2', 'X4', 'X3'], ['X2', 'X1', 'X3', 'X4']]\n",
      "\n",
      "--*-- Variables ('X1',) are latent. --*--\n",
      "\n",
      "Mean runtime          : 23.842 seconds (23.551-24.132)\n",
      "Mean order divergence : 1.0 (0.38-1.62)\n",
      "\n",
      "Causal orderings : [['X0', 'X2', 'X3', 'X4'], ['X4', 'X2', 'X0', 'X3'], ['X4', 'X2', 'X0', 'X3'], ['X2', 'X4', 'X0', 'X3'], ['X4', 'X2', 'X3', 'X0']]\n",
      "\n",
      "--*-- Variables ('X2',) are latent. --*--\n",
      "\n",
      "Mean runtime          : 33.993 seconds (14.089-53.896)\n",
      "Mean order divergence : 1.0 (0.38-1.62)\n",
      "\n",
      "Causal orderings : [['X1', 'X4', 'X0', 'X3'], ['X4', 'X1', 'X0', 'X3'], ['X4', 'X0', 'X1', 'X3'], ['X1', 'X4', 'X3', 'X0'], ['X0', 'X1', 'X3', 'X4']]\n",
      "\n",
      "--*-- Variables ('X0', 'X1') are latent. --*--\n",
      "\n",
      "Mean runtime          : 18.651 seconds (18.352-18.951)\n",
      "Mean order divergence : 0.8 (0.408-1.192)\n",
      "\n",
      "Causal orderings : [['X2', 'X3', 'X4'], ['X4', 'X2', 'X3'], ['X4', 'X2', 'X3'], ['X2', 'X4', 'X3'], ['X4', 'X2', 'X3']]\n",
      "\n",
      "--*-- Variables ('X0', 'X2') are latent. --*--\n",
      "\n",
      "Mean runtime          : 68.993 seconds (-30.34-168.327)\n",
      "Mean order divergence : 0.8 (0.067-1.533)\n",
      "\n",
      "Causal orderings : [['X1', 'X3', 'X4'], ['X4', 'X1', 'X3'], ['X4', 'X3', 'X1'], ['X1', 'X4', 'X3'], ['X1', 'X3', 'X4']]\n",
      "\n",
      "--*-- Variables ('X1', 'X2') are latent. --*--\n",
      "\n",
      "Mean runtime          : 77.588 seconds (-38.393-193.569)\n",
      "Mean order divergence : 0.8 (0.067-1.533)\n",
      "\n",
      "Causal orderings : [['X0', 'X3', 'X4'], ['X4', 'X0', 'X3'], ['X4', 'X3', 'X0'], ['X0', 'X3', 'X4'], ['X3', 'X4', 'X0']]\n",
      "\n",
      "--*-- Variables ('X0', 'X1', 'X2') are latent. --*--\n",
      "\n"
     ]
    },
    {
     "ename": "KeyboardInterrupt",
     "evalue": "",
     "output_type": "error",
     "traceback": [
      "\u001b[0;31m---------------------------------------------------------------------------\u001b[0m",
      "\u001b[0;31mKeyboardInterrupt\u001b[0m                         Traceback (most recent call last)",
      "Cell \u001b[0;32mIn[10], line 26\u001b[0m\n\u001b[1;32m     24\u001b[0m context \u001b[38;5;241m=\u001b[39m dodiscover\u001b[38;5;241m.\u001b[39mmake_context()\u001b[38;5;241m.\u001b[39mvariables(data \u001b[38;5;241m=\u001b[39m df)\u001b[38;5;241m.\u001b[39mbuild()\n\u001b[1;32m     25\u001b[0m start \u001b[38;5;241m=\u001b[39m time\u001b[38;5;241m.\u001b[39mtime()\n\u001b[0;32m---> 26\u001b[0m \u001b[43mdas\u001b[49m\u001b[38;5;241;43m.\u001b[39;49m\u001b[43mlearn_graph\u001b[49m\u001b[43m(\u001b[49m\u001b[43mdf\u001b[49m\u001b[43m,\u001b[49m\u001b[43m \u001b[49m\u001b[43mcontext\u001b[49m\u001b[43m)\u001b[49m\n\u001b[1;32m     27\u001b[0m times\u001b[38;5;241m.\u001b[39mappend(time\u001b[38;5;241m.\u001b[39mtime() \u001b[38;5;241m-\u001b[39m start)\n\u001b[1;32m     29\u001b[0m \u001b[38;5;66;03m# Extract causal order.\u001b[39;00m\n\u001b[1;32m     30\u001b[0m \u001b[38;5;66;03m#print(das.order_)\u001b[39;00m\n",
      "File \u001b[0;32m~/Desktop/cornell/icp/dodiscover/dodiscover/toporder/_base.py:617\u001b[0m, in \u001b[0;36mBaseTopOrder.learn_graph\u001b[0;34m(self, data_df, context)\u001b[0m\n\u001b[1;32m    615\u001b[0m \u001b[38;5;66;03m# Inference of the causal graph via pruning\u001b[39;00m\n\u001b[1;32m    616\u001b[0m \u001b[38;5;28;01mif\u001b[39;00m \u001b[38;5;28mself\u001b[39m\u001b[38;5;241m.\u001b[39mapply_pruning:\n\u001b[0;32m--> 617\u001b[0m     A \u001b[38;5;241m=\u001b[39m \u001b[38;5;28;43mself\u001b[39;49m\u001b[38;5;241;43m.\u001b[39;49m\u001b[43m_prune\u001b[49m\u001b[43m(\u001b[49m\u001b[43mX\u001b[49m\u001b[43m,\u001b[49m\u001b[43m \u001b[49m\u001b[43mA_dense\u001b[49m\u001b[43m)\u001b[49m\n\u001b[1;32m    618\u001b[0m     G \u001b[38;5;241m=\u001b[39m nx\u001b[38;5;241m.\u001b[39mfrom_numpy_array(A, create_using\u001b[38;5;241m=\u001b[39mnx\u001b[38;5;241m.\u001b[39mDiGraph)\n\u001b[1;32m    619\u001b[0m \u001b[38;5;28;01melse\u001b[39;00m:\n",
      "File \u001b[0;32m~/Desktop/cornell/icp/dodiscover/dodiscover/toporder/das.py:107\u001b[0m, in \u001b[0;36mDAS._prune\u001b[0;34m(self, X, A_dense)\u001b[0m\n\u001b[1;32m    104\u001b[0m remaining_nodes \u001b[38;5;241m=\u001b[39m \u001b[38;5;28mlist\u001b[39m(\u001b[38;5;28mrange\u001b[39m(d))\n\u001b[1;32m    105\u001b[0m A_das \u001b[38;5;241m=\u001b[39m np\u001b[38;5;241m.\u001b[39mzeros((d, d))\n\u001b[0;32m--> 107\u001b[0m hess \u001b[38;5;241m=\u001b[39m \u001b[38;5;28;43mself\u001b[39;49m\u001b[38;5;241;43m.\u001b[39;49m\u001b[43mhessian\u001b[49m\u001b[43m(\u001b[49m\u001b[43mX\u001b[49m\u001b[43m,\u001b[49m\u001b[43m \u001b[49m\u001b[43meta_G\u001b[49m\u001b[38;5;241;43m=\u001b[39;49m\u001b[38;5;28;43mself\u001b[39;49m\u001b[38;5;241;43m.\u001b[39;49m\u001b[43meta_G\u001b[49m\u001b[43m,\u001b[49m\u001b[43m \u001b[49m\u001b[43meta_H\u001b[49m\u001b[38;5;241;43m=\u001b[39;49m\u001b[38;5;28;43mself\u001b[39;49m\u001b[38;5;241;43m.\u001b[39;49m\u001b[43meta_H\u001b[49m\u001b[43m)\u001b[49m\n\u001b[1;32m    108\u001b[0m \u001b[38;5;28;01mfor\u001b[39;00m i \u001b[38;5;129;01min\u001b[39;00m \u001b[38;5;28mrange\u001b[39m(d \u001b[38;5;241m-\u001b[39m \u001b[38;5;241m1\u001b[39m):\n\u001b[1;32m    109\u001b[0m     leaf \u001b[38;5;241m=\u001b[39m order[::\u001b[38;5;241m-\u001b[39m\u001b[38;5;241m1\u001b[39m][i]\n",
      "File \u001b[0;32m~/Desktop/cornell/icp/dodiscover/dodiscover/toporder/_base.py:53\u001b[0m, in \u001b[0;36mSteinMixin.hessian\u001b[0;34m(self, X, eta_G, eta_H)\u001b[0m\n\u001b[1;32m     51\u001b[0m K \u001b[38;5;241m=\u001b[39m \u001b[38;5;28mself\u001b[39m\u001b[38;5;241m.\u001b[39m_evaluate_kernel(X, s\u001b[38;5;241m=\u001b[39ms)\n\u001b[1;32m     52\u001b[0m nablaK \u001b[38;5;241m=\u001b[39m \u001b[38;5;28mself\u001b[39m\u001b[38;5;241m.\u001b[39m_evaluate_nablaK(K, X, s)\n\u001b[0;32m---> 53\u001b[0m G \u001b[38;5;241m=\u001b[39m \u001b[38;5;28;43mself\u001b[39;49m\u001b[38;5;241;43m.\u001b[39;49m\u001b[43mscore\u001b[49m\u001b[43m(\u001b[49m\u001b[43mX\u001b[49m\u001b[43m,\u001b[49m\u001b[43m \u001b[49m\u001b[43meta_G\u001b[49m\u001b[43m,\u001b[49m\u001b[43m \u001b[49m\u001b[43mK\u001b[49m\u001b[43m,\u001b[49m\u001b[43m \u001b[49m\u001b[43mnablaK\u001b[49m\u001b[43m)\u001b[49m\n\u001b[1;32m     55\u001b[0m \u001b[38;5;66;03m# Compute the Hessian by column stacked together\u001b[39;00m\n\u001b[1;32m     56\u001b[0m H \u001b[38;5;241m=\u001b[39m np\u001b[38;5;241m.\u001b[39mstack([\u001b[38;5;28mself\u001b[39m\u001b[38;5;241m.\u001b[39m_hessian_col(X, G, col, eta_H, K, s) \u001b[38;5;28;01mfor\u001b[39;00m col \u001b[38;5;129;01min\u001b[39;00m \u001b[38;5;28mrange\u001b[39m(d)], axis\u001b[38;5;241m=\u001b[39m\u001b[38;5;241m1\u001b[39m)\n",
      "File \u001b[0;32m~/Desktop/cornell/icp/dodiscover/dodiscover/toporder/_base.py:99\u001b[0m, in \u001b[0;36mSteinMixin.score\u001b[0;34m(self, X, eta_G, K, nablaK)\u001b[0m\n\u001b[1;32m     96\u001b[0m     K \u001b[38;5;241m=\u001b[39m \u001b[38;5;28mself\u001b[39m\u001b[38;5;241m.\u001b[39m_evaluate_kernel(X, s)\n\u001b[1;32m     97\u001b[0m     nablaK \u001b[38;5;241m=\u001b[39m \u001b[38;5;28mself\u001b[39m\u001b[38;5;241m.\u001b[39m_evaluate_nablaK(K, X, s)\n\u001b[0;32m---> 99\u001b[0m G \u001b[38;5;241m=\u001b[39m np\u001b[38;5;241m.\u001b[39mmatmul(\u001b[43mnp\u001b[49m\u001b[38;5;241;43m.\u001b[39;49m\u001b[43mlinalg\u001b[49m\u001b[38;5;241;43m.\u001b[39;49m\u001b[43minv\u001b[49m\u001b[43m(\u001b[49m\u001b[43mK\u001b[49m\u001b[43m \u001b[49m\u001b[38;5;241;43m+\u001b[39;49m\u001b[43m \u001b[49m\u001b[43meta_G\u001b[49m\u001b[43m \u001b[49m\u001b[38;5;241;43m*\u001b[39;49m\u001b[43m \u001b[49m\u001b[43mnp\u001b[49m\u001b[38;5;241;43m.\u001b[39;49m\u001b[43meye\u001b[49m\u001b[43m(\u001b[49m\u001b[43mn\u001b[49m\u001b[43m)\u001b[49m\u001b[43m)\u001b[49m, nablaK)\n\u001b[1;32m    100\u001b[0m \u001b[38;5;28;01mreturn\u001b[39;00m G\n",
      "File \u001b[0;32m~/anaconda3/envs/icp/lib/python3.10/site-packages/numpy/linalg/linalg.py:561\u001b[0m, in \u001b[0;36minv\u001b[0;34m(a)\u001b[0m\n\u001b[1;32m    559\u001b[0m signature \u001b[38;5;241m=\u001b[39m \u001b[38;5;124m'\u001b[39m\u001b[38;5;124mD->D\u001b[39m\u001b[38;5;124m'\u001b[39m \u001b[38;5;28;01mif\u001b[39;00m isComplexType(t) \u001b[38;5;28;01melse\u001b[39;00m \u001b[38;5;124m'\u001b[39m\u001b[38;5;124md->d\u001b[39m\u001b[38;5;124m'\u001b[39m\n\u001b[1;32m    560\u001b[0m extobj \u001b[38;5;241m=\u001b[39m get_linalg_error_extobj(_raise_linalgerror_singular)\n\u001b[0;32m--> 561\u001b[0m ainv \u001b[38;5;241m=\u001b[39m \u001b[43m_umath_linalg\u001b[49m\u001b[38;5;241;43m.\u001b[39;49m\u001b[43minv\u001b[49m\u001b[43m(\u001b[49m\u001b[43ma\u001b[49m\u001b[43m,\u001b[49m\u001b[43m \u001b[49m\u001b[43msignature\u001b[49m\u001b[38;5;241;43m=\u001b[39;49m\u001b[43msignature\u001b[49m\u001b[43m,\u001b[49m\u001b[43m \u001b[49m\u001b[43mextobj\u001b[49m\u001b[38;5;241;43m=\u001b[39;49m\u001b[43mextobj\u001b[49m\u001b[43m)\u001b[49m\n\u001b[1;32m    562\u001b[0m \u001b[38;5;28;01mreturn\u001b[39;00m wrap(ainv\u001b[38;5;241m.\u001b[39mastype(result_t, copy\u001b[38;5;241m=\u001b[39m\u001b[38;5;28;01mFalse\u001b[39;00m))\n",
      "\u001b[0;31mKeyboardInterrupt\u001b[0m: "
     ]
    }
   ],
   "source": [
    "# Sort replicates.\n",
    "cols = [\"X0\", \"X1\", \"X2\", \"X3\", \"X4\"]\n",
    "for latents in latents_power_set:\n",
    "\n",
    "    times = []\n",
    "    orders = []\n",
    "    order_divergences = []\n",
    "\n",
    "    print(\"\\n--*-- Variables {} are latent. --*--\\n\".format(latents))\n",
    "    \n",
    "    for df in df_replicates:\n",
    "\n",
    "        # Obscure variables.\n",
    "        if len(latents) > 0:\n",
    "            df = df.drop(columns = list(latents))\n",
    "            adjacency = np.delete(adj, [cols.index(x) for x in latents], axis = 0)\n",
    "            adjacency = np.delete(adjacency, [cols.index(x) for x in latents], axis = 1)\n",
    "        else:\n",
    "            adjacency = adj.copy()\n",
    "        #print(adjacency)\n",
    "    \n",
    "        # Learn with DAS (SCORE). We only need the ordering, but this does the whole procedure.\n",
    "        das = dodiscover.toporder.DAS()\n",
    "        context = dodiscover.make_context().variables(data = df).build()\n",
    "        start = time.time()\n",
    "        das.learn_graph(df, context)\n",
    "        times.append(time.time() - start)\n",
    "    \n",
    "        # Extract causal order.\n",
    "        #print(das.order_)\n",
    "        orders.append([df.columns[i] for i in das.order_])\n",
    "\n",
    "        # Evaluate order quality.\n",
    "        G = nx.from_numpy_array(adjacency, create_using = nx.DiGraph)\n",
    "        order_divergences.append(toporder_divergence(G, das.order_))\n",
    "\n",
    "    # View performance.\n",
    "    mean, ci = get_ci(times)\n",
    "    print(\"Mean runtime          : {} seconds ({}-{})\".format(round(mean,3), \n",
    "                                                              round(ci[0],3), \n",
    "                                                              round(ci[1],3)))\n",
    "    mean, ci = get_ci(order_divergences)\n",
    "    print(\"Mean order divergence : {} ({}-{})\".format(round(mean,3), \n",
    "                                                      round(ci[0],3), \n",
    "                                                       round(ci[1],3)))\n",
    "    print(\"\\nCausal orderings :\", orders)"
   ]
  },
  {
   "cell_type": "code",
   "execution_count": 13,
   "id": "70b57bc9-f921-44e9-99b5-03d109b37747",
   "metadata": {},
   "outputs": [
    {
     "name": "stdout",
     "output_type": "stream",
     "text": [
      "\n",
      "--*-- Variables ('X0', 'X1', 'X2') are latent. --*--\n",
      "\n",
      "Mean runtime          : 12.663 seconds (12.464-12.862)\n",
      "Mean order divergence : 0.6 (0.12-1.08)\n",
      "\n",
      "Causal orderings : [['X3', 'X4'], ['X4', 'X3'], ['X4', 'X3'], ['X4', 'X3'], ['X3', 'X4']]\n"
     ]
    }
   ],
   "source": [
    "# Sort replicates.\n",
    "cols = [\"X0\", \"X1\", \"X2\", \"X3\", \"X4\"]\n",
    "for latents in latents_power_set[-1:]:\n",
    "\n",
    "    times = []\n",
    "    orders = []\n",
    "    order_divergences = []\n",
    "\n",
    "    print(\"\\n--*-- Variables {} are latent. --*--\\n\".format(latents))\n",
    "    \n",
    "    for df in df_replicates:\n",
    "\n",
    "        # Obscure variables.\n",
    "        if len(latents) > 0:\n",
    "            df = df.drop(columns = list(latents))\n",
    "            adjacency = np.delete(adj, [cols.index(x) for x in latents], axis = 0)\n",
    "            adjacency = np.delete(adjacency, [cols.index(x) for x in latents], axis = 1)\n",
    "        else:\n",
    "            adjacency = adj.copy()\n",
    "        #print(adjacency)\n",
    "    \n",
    "        # Learn with DAS (SCORE). We only need the ordering, but this does the whole procedure.\n",
    "        das = dodiscover.toporder.DAS()\n",
    "        context = dodiscover.make_context().variables(data = df).build()\n",
    "        start = time.time()\n",
    "        das.learn_graph(df, context)\n",
    "        times.append(time.time() - start)\n",
    "    \n",
    "        # Extract causal order.\n",
    "        #print(das.order_)\n",
    "        orders.append([df.columns[i] for i in das.order_])\n",
    "\n",
    "        # Evaluate order quality.\n",
    "        G = nx.from_numpy_array(adjacency, create_using = nx.DiGraph)\n",
    "        order_divergences.append(toporder_divergence(G, das.order_))\n",
    "\n",
    "    # View performance.\n",
    "    mean, ci = get_ci(times)\n",
    "    print(\"Mean runtime          : {} seconds ({}-{})\".format(round(mean,3), \n",
    "                                                              round(ci[0],3), \n",
    "                                                              round(ci[1],3)))\n",
    "    mean, ci = get_ci(order_divergences)\n",
    "    print(\"Mean order divergence : {} ({}-{})\".format(round(mean,3), \n",
    "                                                      round(ci[0],3), \n",
    "                                                       round(ci[1],3)))\n",
    "    print(\"\\nCausal orderings :\", orders)"
   ]
  },
  {
   "cell_type": "markdown",
   "id": "4488cb8c-454c-4d08-9ea4-af9db52a4ff6",
   "metadata": {},
   "source": [
    "## End of document"
   ]
  },
  {
   "cell_type": "code",
   "execution_count": null,
   "id": "19c0c606-1601-4376-8f6b-f1b3f1430b2c",
   "metadata": {},
   "outputs": [],
   "source": []
  }
 ],
 "metadata": {
  "kernelspec": {
   "display_name": "Python 3 (ipykernel)",
   "language": "python",
   "name": "python3"
  },
  "language_info": {
   "codemirror_mode": {
    "name": "ipython",
    "version": 3
   },
   "file_extension": ".py",
   "mimetype": "text/x-python",
   "name": "python",
   "nbconvert_exporter": "python",
   "pygments_lexer": "ipython3",
   "version": "3.10.13"
  }
 },
 "nbformat": 4,
 "nbformat_minor": 5
}
