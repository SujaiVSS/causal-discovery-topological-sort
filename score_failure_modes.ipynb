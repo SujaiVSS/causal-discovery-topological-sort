{
 "cells": [
  {
   "cell_type": "markdown",
   "id": "005359b9-90ab-434e-8004-bc97b5a1b2ad",
   "metadata": {},
   "source": [
    "# Failure modes of existing score matching methods\n",
    "\n",
    "Code by Jacqueline Maasch | March 2024"
   ]
  },
  {
   "cell_type": "markdown",
   "id": "7c81eae6-286d-48b2-858d-4d9dd67877c2",
   "metadata": {},
   "source": [
    "## Preamble"
   ]
  },
  {
   "cell_type": "code",
   "execution_count": 1,
   "id": "a1a15256-fe3c-45b7-822d-022215b9f6c2",
   "metadata": {},
   "outputs": [
    {
     "name": "stdout",
     "output_type": "stream",
     "text": [
      "python version     : 3.10.13\n",
      "numpy version      : 1.26.3\n",
      "pandas version     : 2.1.4\n",
      "matplotlib version : 3.8.0\n",
      "seaborn version    : 0.12.2\n"
     ]
    }
   ],
   "source": [
    "# General importations.\n",
    "import pandas as pd\n",
    "import numpy as np\n",
    "import matplotlib\n",
    "import matplotlib.pyplot as plt\n",
    "import seaborn as sns\n",
    "from scipy import stats\n",
    "import platform\n",
    "import time\n",
    "from itertools import chain, combinations\n",
    "\n",
    "# Machine learning imports.\n",
    "from sklearn.preprocessing import StandardScaler\n",
    "\n",
    "# Causal discovery imports.\n",
    "import dodiscover\n",
    "from dodiscover.metrics import toporder_divergence\n",
    "import CausalDisco\n",
    "from CausalDisco.analytics import (\n",
    "    var_sortability,\n",
    "    r2_sortability,\n",
    "    snr_sortability,\n",
    "    r2coeff,\n",
    "    order_alignment\n",
    ")\n",
    "import networkx as nx\n",
    "\n",
    "# View versioning.\n",
    "print(\"python version     :\", platform.python_version())\n",
    "print(\"numpy version      :\", np.__version__)\n",
    "print(\"pandas version     :\", pd.__version__)\n",
    "print(\"matplotlib version :\", matplotlib.__version__)\n",
    "print(\"seaborn version    :\", sns.__version__)"
   ]
  },
  {
   "cell_type": "markdown",
   "id": "b7193a52-ef12-43fc-afc7-daf8b30992b2",
   "metadata": {},
   "source": [
    "## Define functions"
   ]
  },
  {
   "cell_type": "code",
   "execution_count": 2,
   "id": "51c36ada-98f5-4832-b6e3-2ef3364caf70",
   "metadata": {},
   "outputs": [],
   "source": [
    "def plot_nx(adjacency_matrix,\n",
    "            labels,\n",
    "            figsize = (5,5),\n",
    "            dpi = 75,\n",
    "            node_size = 800,\n",
    "            arrow_size = 10):\n",
    "\n",
    "    '''\n",
    "    Plot graph given adjacency matrix.\n",
    "    '''\n",
    "    \n",
    "    g = nx.from_numpy_array(adjacency_matrix, create_using = nx.DiGraph)\n",
    "    plt.figure(figsize = figsize, dpi = dpi)  \n",
    "    nx.draw_circular(g, \n",
    "                     node_size = node_size, \n",
    "                     node_color = \"pink\",\n",
    "                     labels = dict(zip(list(range(len(labels))), labels)), \n",
    "                     arrowsize = arrow_size,\n",
    "                     with_labels = True)\n",
    "    plt.show()\n",
    "    plt.close()"
   ]
  },
  {
   "cell_type": "code",
   "execution_count": 3,
   "id": "3734286b-a3f0-4280-b0d8-0de0f1d6afeb",
   "metadata": {},
   "outputs": [],
   "source": [
    "def get_power_set(iterable):\n",
    "\n",
    "    '''\n",
    "    Get power set of an iterable (e.g., list, array). Returns chain oject.\n",
    "    '''\n",
    "\n",
    "    iterable = list(iterable)\n",
    "    power_set = chain.from_iterable(combinations(iterable, i) \\\n",
    "                                    for i in range(len(iterable)+1))\n",
    "    return power_set"
   ]
  },
  {
   "cell_type": "code",
   "execution_count": 4,
   "id": "c9c34bb9-fc63-4829-8ad8-aaa7a1c46fed",
   "metadata": {},
   "outputs": [],
   "source": [
    "def get_ci(results: list,\n",
    "           z: float = 1.96,\n",
    "           return_mean: bool = True) -> tuple:\n",
    "\n",
    "    '''\n",
    "    Get confidence interval. Default is 95% confidence interval.\n",
    "    '''\n",
    "\n",
    "    mean = np.mean(results)\n",
    "    se = stats.sem(results)\n",
    "    ci = [mean - (z * se), mean + (z * se)]\n",
    "    if return_mean:\n",
    "        return mean, ci\n",
    "    return ci"
   ]
  },
  {
   "cell_type": "markdown",
   "id": "1fd83c3f-64ee-4c7c-9ae5-744ad84199a2",
   "metadata": {},
   "source": [
    "## Generate data"
   ]
  },
  {
   "cell_type": "code",
   "execution_count": 15,
   "id": "ddd82b20-7074-453c-b0d8-15221e4eb4a5",
   "metadata": {},
   "outputs": [
    {
     "data": {
      "text/html": [
       "<div>\n",
       "<style scoped>\n",
       "    .dataframe tbody tr th:only-of-type {\n",
       "        vertical-align: middle;\n",
       "    }\n",
       "\n",
       "    .dataframe tbody tr th {\n",
       "        vertical-align: top;\n",
       "    }\n",
       "\n",
       "    .dataframe thead th {\n",
       "        text-align: right;\n",
       "    }\n",
       "</style>\n",
       "<table border=\"1\" class=\"dataframe\">\n",
       "  <thead>\n",
       "    <tr style=\"text-align: right;\">\n",
       "      <th></th>\n",
       "      <th>X0</th>\n",
       "      <th>X1</th>\n",
       "      <th>X2</th>\n",
       "      <th>X3</th>\n",
       "      <th>X4</th>\n",
       "    </tr>\n",
       "  </thead>\n",
       "  <tbody>\n",
       "    <tr>\n",
       "      <th>0</th>\n",
       "      <td>1.270680</td>\n",
       "      <td>-0.320943</td>\n",
       "      <td>-1.103561</td>\n",
       "      <td>0.851451</td>\n",
       "      <td>0.916429</td>\n",
       "    </tr>\n",
       "    <tr>\n",
       "      <th>1</th>\n",
       "      <td>-0.695170</td>\n",
       "      <td>1.319320</td>\n",
       "      <td>-1.179465</td>\n",
       "      <td>1.027164</td>\n",
       "      <td>2.031123</td>\n",
       "    </tr>\n",
       "    <tr>\n",
       "      <th>2</th>\n",
       "      <td>-0.966752</td>\n",
       "      <td>-0.180459</td>\n",
       "      <td>0.394936</td>\n",
       "      <td>-0.122158</td>\n",
       "      <td>0.401202</td>\n",
       "    </tr>\n",
       "    <tr>\n",
       "      <th>3</th>\n",
       "      <td>0.776731</td>\n",
       "      <td>1.515047</td>\n",
       "      <td>-0.734373</td>\n",
       "      <td>-1.425396</td>\n",
       "      <td>-1.809107</td>\n",
       "    </tr>\n",
       "    <tr>\n",
       "      <th>4</th>\n",
       "      <td>-2.238560</td>\n",
       "      <td>1.452602</td>\n",
       "      <td>0.172228</td>\n",
       "      <td>0.415368</td>\n",
       "      <td>2.430168</td>\n",
       "    </tr>\n",
       "  </tbody>\n",
       "</table>\n",
       "</div>"
      ],
      "text/plain": [
       "         X0        X1        X2        X3        X4\n",
       "0  1.270680 -0.320943 -1.103561  0.851451  0.916429\n",
       "1 -0.695170  1.319320 -1.179465  1.027164  2.031123\n",
       "2 -0.966752 -0.180459  0.394936 -0.122158  0.401202\n",
       "3  0.776731  1.515047 -0.734373 -1.425396 -1.809107\n",
       "4 -2.238560  1.452602  0.172228  0.415368  2.430168"
      ]
     },
     "metadata": {},
     "output_type": "display_data"
    },
    {
     "data": {
      "text/html": [
       "<div>\n",
       "<style scoped>\n",
       "    .dataframe tbody tr th:only-of-type {\n",
       "        vertical-align: middle;\n",
       "    }\n",
       "\n",
       "    .dataframe tbody tr th {\n",
       "        vertical-align: top;\n",
       "    }\n",
       "\n",
       "    .dataframe thead th {\n",
       "        text-align: right;\n",
       "    }\n",
       "</style>\n",
       "<table border=\"1\" class=\"dataframe\">\n",
       "  <thead>\n",
       "    <tr style=\"text-align: right;\">\n",
       "      <th></th>\n",
       "      <th>X0</th>\n",
       "      <th>X1</th>\n",
       "      <th>X2</th>\n",
       "      <th>X3</th>\n",
       "      <th>X4</th>\n",
       "    </tr>\n",
       "  </thead>\n",
       "  <tbody>\n",
       "    <tr>\n",
       "      <th>0</th>\n",
       "      <td>0.823474</td>\n",
       "      <td>0.211395</td>\n",
       "      <td>0.026694</td>\n",
       "      <td>0.356746</td>\n",
       "      <td>-0.344126</td>\n",
       "    </tr>\n",
       "    <tr>\n",
       "      <th>1</th>\n",
       "      <td>1.240885</td>\n",
       "      <td>0.220635</td>\n",
       "      <td>0.093692</td>\n",
       "      <td>2.092904</td>\n",
       "      <td>2.220032</td>\n",
       "    </tr>\n",
       "    <tr>\n",
       "      <th>2</th>\n",
       "      <td>-0.633738</td>\n",
       "      <td>0.195130</td>\n",
       "      <td>0.456797</td>\n",
       "      <td>-0.443587</td>\n",
       "      <td>1.066288</td>\n",
       "    </tr>\n",
       "    <tr>\n",
       "      <th>3</th>\n",
       "      <td>0.454261</td>\n",
       "      <td>-0.081143</td>\n",
       "      <td>1.006896</td>\n",
       "      <td>0.144118</td>\n",
       "      <td>-0.273196</td>\n",
       "    </tr>\n",
       "    <tr>\n",
       "      <th>4</th>\n",
       "      <td>1.314685</td>\n",
       "      <td>0.024286</td>\n",
       "      <td>-0.608087</td>\n",
       "      <td>1.892725</td>\n",
       "      <td>2.214161</td>\n",
       "    </tr>\n",
       "  </tbody>\n",
       "</table>\n",
       "</div>"
      ],
      "text/plain": [
       "         X0        X1        X2        X3        X4\n",
       "0  0.823474  0.211395  0.026694  0.356746 -0.344126\n",
       "1  1.240885  0.220635  0.093692  2.092904  2.220032\n",
       "2 -0.633738  0.195130  0.456797 -0.443587  1.066288\n",
       "3  0.454261 -0.081143  1.006896  0.144118 -0.273196\n",
       "4  1.314685  0.024286 -0.608087  1.892725  2.214161"
      ]
     },
     "metadata": {},
     "output_type": "display_data"
    },
    {
     "data": {
      "text/html": [
       "<div>\n",
       "<style scoped>\n",
       "    .dataframe tbody tr th:only-of-type {\n",
       "        vertical-align: middle;\n",
       "    }\n",
       "\n",
       "    .dataframe tbody tr th {\n",
       "        vertical-align: top;\n",
       "    }\n",
       "\n",
       "    .dataframe thead th {\n",
       "        text-align: right;\n",
       "    }\n",
       "</style>\n",
       "<table border=\"1\" class=\"dataframe\">\n",
       "  <thead>\n",
       "    <tr style=\"text-align: right;\">\n",
       "      <th></th>\n",
       "      <th>X0</th>\n",
       "      <th>X1</th>\n",
       "      <th>X2</th>\n",
       "      <th>X3</th>\n",
       "      <th>X4</th>\n",
       "    </tr>\n",
       "  </thead>\n",
       "  <tbody>\n",
       "    <tr>\n",
       "      <th>0</th>\n",
       "      <td>0.665716</td>\n",
       "      <td>-1.251394</td>\n",
       "      <td>-0.865587</td>\n",
       "      <td>-2.043230</td>\n",
       "      <td>-0.291380</td>\n",
       "    </tr>\n",
       "    <tr>\n",
       "      <th>1</th>\n",
       "      <td>-0.971807</td>\n",
       "      <td>-1.905139</td>\n",
       "      <td>-2.156748</td>\n",
       "      <td>-2.877028</td>\n",
       "      <td>-2.555281</td>\n",
       "    </tr>\n",
       "    <tr>\n",
       "      <th>2</th>\n",
       "      <td>-1.757620</td>\n",
       "      <td>1.040684</td>\n",
       "      <td>0.573491</td>\n",
       "      <td>-0.160520</td>\n",
       "      <td>-1.738466</td>\n",
       "    </tr>\n",
       "    <tr>\n",
       "      <th>3</th>\n",
       "      <td>0.148589</td>\n",
       "      <td>-0.552233</td>\n",
       "      <td>0.683557</td>\n",
       "      <td>0.058299</td>\n",
       "      <td>-1.700907</td>\n",
       "    </tr>\n",
       "    <tr>\n",
       "      <th>4</th>\n",
       "      <td>0.232084</td>\n",
       "      <td>-0.596170</td>\n",
       "      <td>0.564857</td>\n",
       "      <td>-1.269156</td>\n",
       "      <td>-2.306568</td>\n",
       "    </tr>\n",
       "  </tbody>\n",
       "</table>\n",
       "</div>"
      ],
      "text/plain": [
       "         X0        X1        X2        X3        X4\n",
       "0  0.665716 -1.251394 -0.865587 -2.043230 -0.291380\n",
       "1 -0.971807 -1.905139 -2.156748 -2.877028 -2.555281\n",
       "2 -1.757620  1.040684  0.573491 -0.160520 -1.738466\n",
       "3  0.148589 -0.552233  0.683557  0.058299 -1.700907\n",
       "4  0.232084 -0.596170  0.564857 -1.269156 -2.306568"
      ]
     },
     "metadata": {},
     "output_type": "display_data"
    },
    {
     "data": {
      "image/png": "[encoded data removed]",
      "text/plain": [
       "<Figure size 640x480 with 6 Axes>"
      ]
     },
     "metadata": {},
     "output_type": "display_data"
    },
    {
     "data": {
      "image/png": "[encoded data removed]",
      "text/plain": [
       "<Figure size 640x480 with 6 Axes>"
      ]
     },
     "metadata": {},
     "output_type": "display_data"
    },
    {
     "data": {
      "image/png": "[encoded data removed]",
      "text/plain": [
       "<Figure size 640x480 with 6 Axes>"
      ]
     },
     "metadata": {},
     "output_type": "display_data"
    }
   ],
   "source": [
    "# Generate data.\n",
    "n = 5000\n",
    "degree = 1\n",
    "coeff = lambda : np.random.uniform(low = 0.25, high = 0.65, size = 1)\n",
    "noise = lambda x: np.random.normal(loc = 0.0, scale = 1.0, size = x)\n",
    "replicates = 3\n",
    "df_replicates = []\n",
    "\n",
    "for i in range(replicates):\n",
    "    X0 = noise(n)\n",
    "    X1 = noise(n)\n",
    "    X2 = noise(n)\n",
    "    X3 = (coeff()*X0)**degree + (coeff()*X1)**degree + (coeff()*X2)**degree + noise(n)\n",
    "    X4 = (coeff()*X3)**degree + noise(n)\n",
    "\n",
    "    # dodiscover expects dataframes, and they are easy to look at.\n",
    "    df = pd.DataFrame({\"X0\": X0, \n",
    "                       \"X1\": X1, \n",
    "                       \"X2\": X2, \n",
    "                       \"X3\": X3,\n",
    "                       \"X4\": X4})\n",
    "    if i < 3:\n",
    "        display(df.head())\n",
    "        df.hist()\n",
    "    df_replicates.append(df)"
   ]
  },
  {
   "cell_type": "code",
   "execution_count": 16,
   "id": "5b9417e1-afad-44dc-952f-fcfc98052ac8",
   "metadata": {},
   "outputs": [],
   "source": [
    "# Generate adjacency matrix.\n",
    "# Per networkx convention: entry i,j corresponds to an edge from i to j.\n",
    "#       X0 X1 X2 X3 X4\n",
    "adj = [[0, 0, 0, 1, 0], # X0\n",
    "       [0, 0, 0, 1, 0], # X1\n",
    "       [0, 0, 0, 1, 0], # X2\n",
    "       [0, 0, 0, 0, 1], # X3\n",
    "       [0, 0, 0, 0, 0]] # X4\n",
    "adj = np.array(adj)"
   ]
  },
  {
   "cell_type": "code",
   "execution_count": 17,
   "id": "79691f2c-4029-4e93-96de-7533b6ecb5ba",
   "metadata": {},
   "outputs": [
    {
     "data": {
      "image/png": "[encoded data removed]",
      "text/plain": [
       "<Figure size 225x225 with 1 Axes>"
      ]
     },
     "metadata": {},
     "output_type": "display_data"
    }
   ],
   "source": [
    "plot_nx(adj, \n",
    "        labels = df.columns,\n",
    "        figsize = (3,3),\n",
    "        dpi = 75)"
   ]
  },
  {
   "cell_type": "markdown",
   "id": "db80e0e8-278f-4bd6-bc2f-6ac07988418e",
   "metadata": {},
   "source": [
    "## Topological sorts\n",
    "\n",
    "[**Evaluation:**](https://www.pywhy.org/dodiscover/dev/generated/dodiscover.metrics.toporder_divergence.html) Topological order divergence = Sum of the number of edges of A not admitted by the given order.\n",
    ">\"Topological order divergence is used to compute the number of false negatives, i.e. missing edges, associated to a topological order of the nodes of a graph with respect to the ground truth structure. If the topological ordering is compatible with the graph ground truth, the divergence is equal to 0. In the worst case of completely reversed ordering, toporder_divergence is equals to P, the number of edges (positives) in the ground truth graph. Note that the divergence defines a lower bound for the Structural Hamming Distance.\"\n",
    "\n",
    "**Note**: Because order divergence is a sum, we normalize this by P = the max possible divergence for the given ground truth graph (i.e., the number of true edges)."
   ]
  },
  {
   "cell_type": "code",
   "execution_count": 18,
   "id": "8a2ae964-22a4-4296-87ee-65f3b8bc1950",
   "metadata": {},
   "outputs": [
    {
     "name": "stdout",
     "output_type": "stream",
     "text": [
      "[(), ('X0',), ('X1',), ('X2',), ('X0', 'X1'), ('X0', 'X2'), ('X1', 'X2'), ('X0', 'X1', 'X2')]\n"
     ]
    }
   ],
   "source": [
    "latents_power_set = list(get_power_set([\"X0\", \"X1\", \"X2\"]))\n",
    "print(latents_power_set)"
   ]
  },
  {
   "cell_type": "code",
   "execution_count": 20,
   "id": "f8ec06c9-bbfc-4c36-b9a4-17e13e94d1be",
   "metadata": {},
   "outputs": [
    {
     "name": "stdout",
     "output_type": "stream",
     "text": [
      "\n",
      "--*-- Variables () are latent. --*--\n",
      "\n",
      "Mean runtime : 30.657 seconds (30.378-30.936)\n",
      "Mean relative order divergence : 0.167 (-0.16-0.493)\n",
      "\n",
      "Causal orderings : [['X1', 'X0', 'X4', 'X3', 'X2'], ['X1', 'X0', 'X2', 'X3', 'X4'], ['X0', 'X2', 'X1', 'X3', 'X4']]\n",
      "\n",
      "--*-- Variables ('X0',) are latent. --*--\n",
      "\n",
      "Mean runtime : 24.533 seconds (24.198-24.868)\n",
      "Mean relative order divergence : 0.222 (0.004-0.44)\n",
      "\n",
      "Causal orderings : [['X1', 'X3', 'X4', 'X2'], ['X1', 'X2', 'X4', 'X3'], ['X1', 'X2', 'X3', 'X4']]\n",
      "\n",
      "--*-- Variables ('X1',) are latent. --*--\n",
      "\n",
      "Mean runtime : 24.086 seconds (24.021-24.151)\n",
      "Mean relative order divergence : 0.333 (-0.044-0.711)\n",
      "\n",
      "Causal orderings : [['X3', 'X4', 'X0', 'X2'], ['X0', 'X2', 'X4', 'X3'], ['X0', 'X2', 'X3', 'X4']]\n",
      "\n",
      "--*-- Variables ('X2',) are latent. --*--\n",
      "\n",
      "Mean runtime : 24.46 seconds (24.162-24.757)\n",
      "Mean relative order divergence : 0.222 (0.004-0.44)\n",
      "\n",
      "Causal orderings : [['X1', 'X0', 'X4', 'X3'], ['X1', 'X0', 'X4', 'X3'], ['X0', 'X1', 'X3', 'X4']]\n",
      "\n",
      "--*-- Variables ('X0', 'X1') are latent. --*--\n",
      "\n",
      "Mean runtime : 18.926 seconds (18.301-19.55)\n",
      "Mean relative order divergence : 0.333 (0.007-0.66)\n",
      "\n",
      "Causal orderings : [['X2', 'X4', 'X3'], ['X2', 'X4', 'X3'], ['X2', 'X3', 'X4']]\n",
      "\n",
      "--*-- Variables ('X0', 'X2') are latent. --*--\n",
      "\n",
      "Mean runtime : 18.996 seconds (18.377-19.614)\n",
      "Mean relative order divergence : 0.333 (0.007-0.66)\n",
      "\n",
      "Causal orderings : [['X1', 'X3', 'X4'], ['X1', 'X4', 'X3'], ['X1', 'X4', 'X3']]\n",
      "\n",
      "--*-- Variables ('X1', 'X2') are latent. --*--\n",
      "\n",
      "Mean runtime : 18.657 seconds (18.316-18.997)\n",
      "Mean relative order divergence : 0.333 (0.007-0.66)\n",
      "\n",
      "Causal orderings : [['X3', 'X4', 'X0'], ['X0', 'X4', 'X3'], ['X0', 'X3', 'X4']]\n",
      "\n",
      "--*-- Variables ('X0', 'X1', 'X2') are latent. --*--\n",
      "\n",
      "Mean runtime : 12.357 seconds (11.998-12.716)\n",
      "Mean relative order divergence : 0.333 (-0.32-0.987)\n",
      "\n",
      "Causal orderings : [['X3', 'X4'], ['X4', 'X3'], ['X3', 'X4']]\n"
     ]
    }
   ],
   "source": [
    "# Sort replicates.\n",
    "cols = [\"X0\", \"X1\", \"X2\", \"X3\", \"X4\"]\n",
    "for latents in latents_power_set:\n",
    "\n",
    "    times = []\n",
    "    orders = []\n",
    "    order_divergences = []\n",
    "\n",
    "    print(\"\\n--*-- Variables {} are latent. --*--\\n\".format(latents))\n",
    "    \n",
    "    for df in df_replicates:\n",
    "\n",
    "        # Obscure variables.\n",
    "        if len(latents) > 0:\n",
    "            df = df.drop(columns = list(latents))\n",
    "            adjacency = np.delete(adj, [cols.index(x) for x in latents], axis = 0)\n",
    "            adjacency = np.delete(adjacency, [cols.index(x) for x in latents], axis = 1)\n",
    "        else:\n",
    "            adjacency = adj.copy()\n",
    "        #print(adjacency)\n",
    "    \n",
    "        # Learn with DAS (SCORE). We only need the ordering, but this does the whole procedure.\n",
    "        das = dodiscover.toporder.DAS()\n",
    "        context = dodiscover.make_context().variables(data = df).build()\n",
    "        start = time.time()\n",
    "        das.learn_graph(df, context)\n",
    "        times.append(time.time() - start)\n",
    "    \n",
    "        # Extract causal order.\n",
    "        #print(das.order_)\n",
    "        orders.append([df.columns[i] for i in das.order_])\n",
    "\n",
    "        # Evaluate order quality.\n",
    "        # Normalize divergence sum by total edges in ground truth (i.e., max divergence score).\n",
    "        G = nx.from_numpy_array(adjacency, create_using = nx.DiGraph)\n",
    "        relative_divergence = toporder_divergence(G, das.order_) / np.sum(adjacency)\n",
    "        order_divergences.append(relative_divergence)\n",
    "\n",
    "    # View performance.\n",
    "    mean, ci = get_ci(times)\n",
    "    print(\"Mean runtime : {} seconds ({}-{})\".format(round(mean,3), \n",
    "                                                     round(ci[0],3), \n",
    "                                                     round(ci[1],3)))\n",
    "    mean, ci = get_ci(order_divergences)\n",
    "    print(\"Mean relative order divergence : {} ({}-{})\".format(round(mean,3), \n",
    "                                                               round(ci[0],3), \n",
    "                                                               round(ci[1],3)))\n",
    "    print(\"\\nCausal orderings :\", orders)"
   ]
  },
  {
   "cell_type": "markdown",
   "id": "4488cb8c-454c-4d08-9ea4-af9db52a4ff6",
   "metadata": {},
   "source": [
    "## End of document"
   ]
  },
  {
   "cell_type": "code",
   "execution_count": null,
   "id": "19c0c606-1601-4376-8f6b-f1b3f1430b2c",
   "metadata": {},
   "outputs": [],
   "source": []
  }
 ],
 "metadata": {
  "kernelspec": {
   "display_name": "Python 3 (ipykernel)",
   "language": "python",
   "name": "python3"
  },
  "language_info": {
   "codemirror_mode": {
    "name": "ipython",
    "version": 3
   },
   "file_extension": ".py",
   "mimetype": "text/x-python",
   "name": "python",
   "nbconvert_exporter": "python",
   "pygments_lexer": "ipython3",
   "version": "3.10.13"
  }
 },
 "nbformat": 4,
 "nbformat_minor": 5
}
